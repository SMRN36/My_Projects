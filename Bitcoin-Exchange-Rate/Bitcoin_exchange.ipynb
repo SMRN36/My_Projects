{
  "nbformat": 4,
  "nbformat_minor": 0,
  "metadata": {
    "colab": {
      "name": "Bitcoin-exchange",
      "provenance": []
    },
    "kernelspec": {
      "name": "python3",
      "display_name": "Python 3"
    },
    "language_info": {
      "name": "python"
    }
  },
  "cells": [
    {
      "cell_type": "code",
      "execution_count": 1,
      "metadata": {
        "id": "OE85rHeQvcJ5"
      },
      "outputs": [],
      "source": [
        "from bs4 import BeautifulSoup\n",
        "import requests\n",
        "import time"
      ]
    },
    {
      "cell_type": "code",
      "source": [
        "url = \"https://www.google.com/search?q=bitcoin+price\"\n",
        "res = requests.get(url)\n"
      ],
      "metadata": {
        "id": "40SKTOuwvmPF"
      },
      "execution_count": null,
      "outputs": []
    },
    {
      "cell_type": "code",
      "source": [
        "soup = BeautifulSoup(res.text, \"html.parser\")\n",
        "print(soup.prettify())"
      ],
      "metadata": {
        "id": "6cjIqrOVv0LT"
      },
      "execution_count": null,
      "outputs": []
    },
    {
      "cell_type": "code",
      "source": [
        "#function to get price of the cryptocurrency\n",
        "def get_price(coin):\n",
        "  url = \"https://www.google.com/search?q=\"+coin+\"+price\"\n",
        "  res = requests.get(url)\n",
        "  soup = BeautifulSoup(res.text, \"html.parser\")\n",
        "  #current price\n",
        "  text = soup.find('div', attrs={'class':'BNeawe iBp4i AP7Wnd'}).find('div', attrs={'class':'BNeawe iBp4i AP7Wnd'}).text\n",
        "  return text"
      ],
      "metadata": {
        "id": "pDcS0gAVwJt9"
      },
      "execution_count": 6,
      "outputs": []
    },
    {
      "cell_type": "code",
      "source": [
        "price = get_price('litecoin')\n",
        "print(price)"
      ],
      "metadata": {
        "colab": {
          "base_uri": "https://localhost:8080/"
        },
        "id": "iH8L8lcQwz3C",
        "outputId": "4d993ad5-2ed3-433d-9443-fd59fd3ef73e"
      },
      "execution_count": 7,
      "outputs": [
        {
          "output_type": "stream",
          "name": "stdout",
          "text": [
            "159.30 United States Dollar\n"
          ]
        }
      ]
    },
    {
      "cell_type": "code",
      "source": [
        "price = get_price('ethereum')\n",
        "print(price)"
      ],
      "metadata": {
        "colab": {
          "base_uri": "https://localhost:8080/"
        },
        "id": "HXmm8ESRyS1i",
        "outputId": "cfb32b98-0926-4f54-cc71-9e7e51b1a3b2"
      },
      "execution_count": 10,
      "outputs": [
        {
          "output_type": "stream",
          "name": "stdout",
          "text": [
            "4,318.08 United States Dollar\n"
          ]
        }
      ]
    },
    {
      "cell_type": "code",
      "source": [
        "#function to constantly show the price when it changes\n",
        "def get_current_price():\n",
        "  previous_price = -1\n",
        "  while True:\n",
        "    crypto = \"bitcoin\"\n",
        "    price = get_price(crypto)\n",
        "    #check if the price changed\n",
        "    if price != previous_price:\n",
        "      print(crypto+ ' price: ', price)\n",
        "      previous_price = price\n",
        "    time.sleep(3)\n",
        "    "
      ],
      "metadata": {
        "id": "pDAzaAWnyeAM"
      },
      "execution_count": 14,
      "outputs": []
    },
    {
      "cell_type": "code",
      "source": [
        ""
      ],
      "metadata": {
        "id": "ZzlzHw2N8vaD"
      },
      "execution_count": null,
      "outputs": []
    }
  ]
}