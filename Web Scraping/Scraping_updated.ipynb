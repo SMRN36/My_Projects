{
  "nbformat": 4,
  "nbformat_minor": 0,
  "metadata": {
    "colab": {
      "name": "Scraping-updated.ipynb",
      "provenance": [],
      "collapsed_sections": []
    },
    "kernelspec": {
      "name": "python3",
      "display_name": "Python 3"
    },
    "language_info": {
      "name": "python"
    }
  },
  "cells": [
    {
      "cell_type": "code",
      "metadata": {
        "id": "TLCWlrPLE0a4"
      },
      "source": [
        "import requests\n",
        "from bs4 import BeautifulSoup \n"
      ],
      "execution_count": 85,
      "outputs": []
    },
    {
      "cell_type": "code",
      "metadata": {
        "colab": {
          "base_uri": "https://localhost:8080/"
        },
        "id": "VOydtQrHE2cc",
        "outputId": "078e5868-5946-4931-b64f-d128bf074c24"
      },
      "source": [
        "#Check whether given website allows web scraping or not, If out 200 then good to go\n",
        "r=requests.get(\"https://www.imdb.com/search/title/?groups=top_1000&sort=user_rating,desc&count=100&start=\")\n",
        "\n",
        "r.status_code"
      ],
      "execution_count": 109,
      "outputs": [
        {
          "output_type": "execute_result",
          "data": {
            "text/plain": [
              "200"
            ]
          },
          "metadata": {},
          "execution_count": 109
        }
      ]
    },
    {
      "cell_type": "code",
      "metadata": {
        "id": "lV1fNagvdI1D"
      },
      "source": [
        "import pandas as pd\n",
        "import numpy as np\n",
        "from time import sleep\n",
        "from random import randint\n"
      ],
      "execution_count": 91,
      "outputs": []
    },
    {
      "cell_type": "code",
      "metadata": {
        "id": "MLr4plfOBzwu"
      },
      "source": [
        "#Declaring the headers \n",
        "headers = {\"Accept-Language\": \"en-US,en;q=0.5\"}"
      ],
      "execution_count": 92,
      "outputs": []
    },
    {
      "cell_type": "code",
      "metadata": {
        "id": "7ZnAd5jmeYXg"
      },
      "source": [
        "movie_name = []\n",
        "year = []\n",
        "time = []\n",
        "ratings = []\n",
        "metascore = []\n",
        "gross = []\n",
        "votes = []\n",
        "description = []"
      ],
      "execution_count": 93,
      "outputs": []
    },
    {
      "cell_type": "code",
      "metadata": {
        "id": "-QmCw_gpB5Or"
      },
      "source": [
        "#creating an array of values and passing it in the url for dynamic webpages\n",
        "pages = np.arange(1,1000,100)"
      ],
      "execution_count": 94,
      "outputs": []
    },
    {
      "cell_type": "code",
      "metadata": {
        "id": "Lw9NK2anfOq-"
      },
      "source": [
        "for page in pages:\n",
        "    page = requests.get(\"https://www.imdb.com/search/title/?groups=top_1000&sort=user_rating,desc&count=100&start=\"+str(page)+\"&ref_=adv_nxt\")\n",
        "    soup = BeautifulSoup(page.text, 'html.parser')\n",
        "    movie_data = soup.findAll('div', attrs = {'class': 'lister-item mode-advanced'})\n",
        "    sleep(randint(2,8))"
      ],
      "execution_count": 95,
      "outputs": []
    },
    {
      "cell_type": "code",
      "metadata": {
        "id": "oFu3BxK5fvuD"
      },
      "source": [
        "for stored in movie_data:\n",
        "  name = stored.h3.a.text\n",
        "  movie_name.append(name)\n",
        "\n",
        "  y = stored.h3.find('span', class_ = 'lister-item-year text-muted unbold').text.replace('(', '').replace(')', '')\n",
        "  year.append(y)\n",
        "    \n",
        "  runtime = stored.p.find('span', class_ = 'runtime').text.replace(' min', '')\n",
        "  time.append(runtime)\n",
        "    \n",
        "  rate = stored.find('div', class_ = 'inline-block ratings-imdb-rating').text.replace('\\n', '')\n",
        "  ratings.append(rate)\n",
        "    \n",
        "  meta  = stored.find('span', class_ = 'metascore').text.replace(' ', '') if stored.find('span', class_ = 'metascore') else '#####'\n",
        "  metascore.append(meta)\n",
        "  #since, gross and votes have same attributes, so created a common variable and then used indexing\n",
        "  value = stored.find_all('span', attrs = {'name': 'nv'})\n",
        "    \n",
        "  vote = value[0].text\n",
        "  votes.append(vote)\n",
        "    \n",
        "  grosses = value[1].text if len(value) >1 else '*****'\n",
        "  gross.append(grosses)\n",
        "\n",
        "  describe = stored.find_all('p', class_ = 'text-muted')\n",
        "  description_ = describe[1].text.replace('\\n', '') if len(describe) >1 else '*****'\n",
        "  description.append(description_)"
      ],
      "execution_count": 96,
      "outputs": []
    },
    {
      "cell_type": "code",
      "metadata": {
        "id": "Q6JsQn4UgSJO"
      },
      "source": [
        "#creating dataframe \n",
        "a ={'Name of movie': movie_name, 'Year of release': year, 'Watchtime': time, 'Movie Rating': ratings, 'Metascore': metascore, 'Votes': votes, 'Gross collection': gross, 'Description': description}\n",
        "df = pd.DataFrame.from_dict(a, orient='index')\n",
        "df = df.transpose()"
      ],
      "execution_count": 97,
      "outputs": []
    },
    {
      "cell_type": "code",
      "metadata": {
        "colab": {
          "base_uri": "https://localhost:8080/",
          "height": 254
        },
        "id": "1qL6qoiMgTzQ",
        "outputId": "750fc5ec-b149-481f-dbb2-74445821b14f"
      },
      "source": [
        "df.head()"
      ],
      "execution_count": 98,
      "outputs": [
        {
          "output_type": "execute_result",
          "data": {
            "text/html": [
              "<div>\n",
              "<style scoped>\n",
              "    .dataframe tbody tr th:only-of-type {\n",
              "        vertical-align: middle;\n",
              "    }\n",
              "\n",
              "    .dataframe tbody tr th {\n",
              "        vertical-align: top;\n",
              "    }\n",
              "\n",
              "    .dataframe thead th {\n",
              "        text-align: right;\n",
              "    }\n",
              "</style>\n",
              "<table border=\"1\" class=\"dataframe\">\n",
              "  <thead>\n",
              "    <tr style=\"text-align: right;\">\n",
              "      <th></th>\n",
              "      <th>Name of movie</th>\n",
              "      <th>Year of release</th>\n",
              "      <th>Watchtime</th>\n",
              "      <th>Movie Rating</th>\n",
              "      <th>Metascore</th>\n",
              "      <th>Votes</th>\n",
              "      <th>Gross collection</th>\n",
              "      <th>Description</th>\n",
              "    </tr>\n",
              "  </thead>\n",
              "  <tbody>\n",
              "    <tr>\n",
              "      <th>0</th>\n",
              "      <td>The Florida Project</td>\n",
              "      <td>2017</td>\n",
              "      <td>111</td>\n",
              "      <td>7.6</td>\n",
              "      <td>92</td>\n",
              "      <td>103,288</td>\n",
              "      <td>$5.90M</td>\n",
              "      <td>Set over one summer, the film follows precocio...</td>\n",
              "    </tr>\n",
              "    <tr>\n",
              "      <th>1</th>\n",
              "      <td>Just Mercy</td>\n",
              "      <td>2019</td>\n",
              "      <td>137</td>\n",
              "      <td>7.6</td>\n",
              "      <td>68</td>\n",
              "      <td>55,982</td>\n",
              "      <td>*****</td>\n",
              "      <td>World-renowned civil rights defense attorney B...</td>\n",
              "    </tr>\n",
              "    <tr>\n",
              "      <th>2</th>\n",
              "      <td>Gifted</td>\n",
              "      <td>2017</td>\n",
              "      <td>101</td>\n",
              "      <td>7.6</td>\n",
              "      <td>60</td>\n",
              "      <td>107,276</td>\n",
              "      <td>$24.80M</td>\n",
              "      <td>Frank, a single man raising his child prodigy ...</td>\n",
              "    </tr>\n",
              "    <tr>\n",
              "      <th>3</th>\n",
              "      <td>The Peanut Butter Falcon</td>\n",
              "      <td>2019</td>\n",
              "      <td>97</td>\n",
              "      <td>7.6</td>\n",
              "      <td>70</td>\n",
              "      <td>81,739</td>\n",
              "      <td>$13.12M</td>\n",
              "      <td>Zak runs away from his care home to make his d...</td>\n",
              "    </tr>\n",
              "    <tr>\n",
              "      <th>4</th>\n",
              "      <td>Victoria</td>\n",
              "      <td>II 2015</td>\n",
              "      <td>138</td>\n",
              "      <td>7.6</td>\n",
              "      <td>77</td>\n",
              "      <td>55,835</td>\n",
              "      <td>*****</td>\n",
              "      <td>A young Spanish woman who has recently moved t...</td>\n",
              "    </tr>\n",
              "  </tbody>\n",
              "</table>\n",
              "</div>"
            ],
            "text/plain": [
              "              Name of movie  ...                                        Description\n",
              "0       The Florida Project  ...  Set over one summer, the film follows precocio...\n",
              "1                Just Mercy  ...  World-renowned civil rights defense attorney B...\n",
              "2                    Gifted  ...  Frank, a single man raising his child prodigy ...\n",
              "3  The Peanut Butter Falcon  ...  Zak runs away from his care home to make his d...\n",
              "4                  Victoria  ...  A young Spanish woman who has recently moved t...\n",
              "\n",
              "[5 rows x 8 columns]"
            ]
          },
          "metadata": {},
          "execution_count": 98
        }
      ]
    },
    {
      "cell_type": "code",
      "metadata": {
        "id": "WvdABv0WyBg3"
      },
      "source": [
        "#change to csv\n",
        "df.to_csv('movies.csv')"
      ],
      "execution_count": 99,
      "outputs": []
    },
    {
      "cell_type": "code",
      "metadata": {
        "colab": {
          "base_uri": "https://localhost:8080/"
        },
        "id": "oW_hwmNMyBoc",
        "outputId": "74182421-aeb1-4ff6-b409-e1afdfb17e62"
      },
      "source": [
        "data = pd.read_csv('movies.csv')\n",
        "data.shape"
      ],
      "execution_count": 100,
      "outputs": [
        {
          "output_type": "execute_result",
          "data": {
            "text/plain": [
              "(100, 9)"
            ]
          },
          "metadata": {},
          "execution_count": 100
        }
      ]
    },
    {
      "cell_type": "code",
      "metadata": {
        "id": "6lmTsN0_3Pu7"
      },
      "source": [
        "#save dataframe to sql database\n",
        "import sqlite3"
      ],
      "execution_count": 101,
      "outputs": []
    },
    {
      "cell_type": "code",
      "metadata": {
        "id": "m_gvF6jC3gSL"
      },
      "source": [
        "conn = sqlite3.connect('TestDB.db')\n",
        "c = conn.cursor()"
      ],
      "execution_count": 102,
      "outputs": []
    },
    {
      "cell_type": "code",
      "metadata": {
        "id": "lxzPQFzx3w4m"
      },
      "source": [
        "c.execute('CREATE TABLE IF NOT EXISTS movies (Name of movie, Year of release, Watchtime, Movie Rating, Metascore, Vote, Gross collection, Description)')\n",
        "conn.commit()"
      ],
      "execution_count": 103,
      "outputs": []
    },
    {
      "cell_type": "code",
      "metadata": {
        "colab": {
          "base_uri": "https://localhost:8080/"
        },
        "id": "fdUmmejv4h4_",
        "outputId": "41a08887-2277-440e-d820-3509049fa1c6"
      },
      "source": [
        "data.to_sql('movies', conn, if_exists = 'replace', index = False)"
      ],
      "execution_count": 104,
      "outputs": [
        {
          "output_type": "stream",
          "name": "stderr",
          "text": [
            "/usr/local/lib/python3.7/dist-packages/pandas/core/generic.py:2615: UserWarning: The spaces in these column names will not be changed. In pandas versions < 0.14, spaces were converted to underscores.\n",
            "  method=method,\n"
          ]
        }
      ]
    },
    {
      "cell_type": "code",
      "metadata": {
        "colab": {
          "base_uri": "https://localhost:8080/"
        },
        "id": "kxODlphd4_g7",
        "outputId": "24c979cf-0611-4f23-ba6e-7e64396b7c78"
      },
      "source": [
        "c.execute('''SELECT * FROM movies''')"
      ],
      "execution_count": 105,
      "outputs": [
        {
          "output_type": "execute_result",
          "data": {
            "text/plain": [
              "<sqlite3.Cursor at 0x7fcf821907a0>"
            ]
          },
          "metadata": {},
          "execution_count": 105
        }
      ]
    },
    {
      "cell_type": "code",
      "metadata": {
        "id": "tGvfjxr85Kdg"
      },
      "source": [
        "#for row in c.fetchall():\n",
        "  #print(row)"
      ],
      "execution_count": 106,
      "outputs": []
    },
    {
      "cell_type": "code",
      "metadata": {
        "colab": {
          "base_uri": "https://localhost:8080/"
        },
        "id": "Mh2gfkbL97WW",
        "outputId": "41881983-e049-431f-910f-ad25677d7bb9"
      },
      "source": [
        "c.execute('''SELECT * FROM movies limit 5''')"
      ],
      "execution_count": 107,
      "outputs": [
        {
          "output_type": "execute_result",
          "data": {
            "text/plain": [
              "<sqlite3.Cursor at 0x7fcf821907a0>"
            ]
          },
          "metadata": {},
          "execution_count": 107
        }
      ]
    },
    {
      "cell_type": "code",
      "metadata": {
        "colab": {
          "base_uri": "https://localhost:8080/"
        },
        "id": "yjEzlk7M-HZo",
        "outputId": "de32aca7-657b-4c14-bbf6-130c3e6e3ea1"
      },
      "source": [
        "for row in c.fetchall():\n",
        "  print(row)"
      ],
      "execution_count": 108,
      "outputs": [
        {
          "output_type": "stream",
          "name": "stdout",
          "text": [
            "(0, 'The Florida Project', '2017', 111, 7.6, '92', '103,288', '$5.90M', 'Set over one summer, the film follows precocious six-year-old Moonee as she courts mischief and adventure with her ragtag playmates and bonds with her rebellious but caring mother, all while living in the shadows of Walt Disney World.')\n",
            "(1, 'Just Mercy', '2019', 137, 7.6, '68', '55,982', '*****', 'World-renowned civil rights defense attorney Bryan Stevenson works to free a wrongly condemned death row prisoner.')\n",
            "(2, 'Gifted', '2017', 101, 7.6, '60', '107,276', '$24.80M', 'Frank, a single man raising his child prodigy niece Mary, is drawn into a custody battle with his mother.')\n",
            "(3, 'The Peanut Butter Falcon', '2019', 97, 7.6, '70', '81,739', '$13.12M', 'Zak runs away from his care home to make his dream of becoming a wrestler come true.')\n",
            "(4, 'Victoria', 'II 2015', 138, 7.6, '77', '55,835', '*****', 'A young Spanish woman who has recently moved to Berlin finds her flirtation with a local guy turn potentially deadly as their night out with his friends reveals a dangerous secret.')\n"
          ]
        }
      ]
    },
    {
      "cell_type": "code",
      "metadata": {
        "id": "q1X5iPeH-O2g"
      },
      "source": [
        ""
      ],
      "execution_count": null,
      "outputs": []
    }
  ]
}