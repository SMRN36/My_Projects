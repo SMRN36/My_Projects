{
  "nbformat": 4,
  "nbformat_minor": 0,
  "metadata": {
    "colab": {
      "name": "Scraping.ipynb",
      "provenance": [],
      "collapsed_sections": []
    },
    "kernelspec": {
      "name": "python3",
      "display_name": "Python 3"
    },
    "language_info": {
      "name": "python"
    }
  },
  "cells": [
    {
      "cell_type": "code",
      "metadata": {
        "id": "TLCWlrPLE0a4"
      },
      "source": [
        "import requests\n",
        "from bs4 import BeautifulSoup \n"
      ],
      "execution_count": 1,
      "outputs": []
    },
    {
      "cell_type": "code",
      "metadata": {
        "colab": {
          "base_uri": "https://localhost:8080/"
        },
        "id": "VOydtQrHE2cc",
        "outputId": "ceb26648-ced0-43f1-bb66-46e13b1fead5"
      },
      "source": [
        "#Check whether given website allows web scraping or not, If out 200 then good to go\n",
        "r=requests.get(\"https://www.imdb.com/search/title/?count=100&groups=top_1000&sort=user_rating\")\n",
        "\n",
        "r.status_code"
      ],
      "execution_count": 2,
      "outputs": [
        {
          "output_type": "execute_result",
          "data": {
            "text/plain": [
              "200"
            ]
          },
          "metadata": {},
          "execution_count": 2
        }
      ]
    },
    {
      "cell_type": "code",
      "metadata": {
        "id": "lV1fNagvdI1D"
      },
      "source": [
        "import pandas as pd\n",
        "import numpy as np"
      ],
      "execution_count": 15,
      "outputs": []
    },
    {
      "cell_type": "code",
      "metadata": {
        "id": "0982uI9-dPk-"
      },
      "source": [
        "url = 'https://www.imdb.com/search/title/?count=100&groups=top_1000&sort=user_rating'\n",
        "response = requests.get(url)\n",
        "soup = BeautifulSoup(response.content, 'html.parser')"
      ],
      "execution_count": 16,
      "outputs": []
    },
    {
      "cell_type": "code",
      "metadata": {
        "id": "7ZnAd5jmeYXg"
      },
      "source": [
        "movie_name = []\n",
        "year = []\n",
        "time = []\n",
        "ratings = []\n",
        "metascore = []\n",
        "gross = []\n",
        "votes = []\n",
        "description = []"
      ],
      "execution_count": 25,
      "outputs": []
    },
    {
      "cell_type": "code",
      "metadata": {
        "id": "Lw9NK2anfOq-"
      },
      "source": [
        "movie_data = soup.find_all('div', attrs = {'class': 'lister-item mode-advanced'})"
      ],
      "execution_count": 26,
      "outputs": []
    },
    {
      "cell_type": "code",
      "metadata": {
        "id": "EOwRqgv5frfK"
      },
      "source": [
        "#movie_data"
      ],
      "execution_count": 20,
      "outputs": []
    },
    {
      "cell_type": "code",
      "metadata": {
        "id": "oFu3BxK5fvuD"
      },
      "source": [
        "for stored in movie_data:\n",
        "  name = stored.h3.a.text\n",
        "  movie_name.append(name)\n",
        "\n",
        "  y = stored.h3.find('span', class_ = 'lister-item-year text-muted unbold').text.replace('(', '').replace(')', '')\n",
        "  year.append(y)\n",
        "    \n",
        "  runtime = stored.p.find('span', class_ = 'runtime').text.replace(' min', '')\n",
        "  time.append(runtime)\n",
        "    \n",
        "  rate = stored.find('div', class_ = 'inline-block ratings-imdb-rating').text.replace('\\n', '')\n",
        "  ratings.append(rate)\n",
        "    \n",
        "  meta  = stored.find('span', class_ = 'metascore').text.replace(' ', '') if stored.find('span', class_ = 'metascore') else '#####'\n",
        "  metascore.append(meta)\n",
        "  #since, gross and votes have same attributes, so created a common variable and then used indexing\n",
        "  value = stored.find_all('span', attrs = {'name': 'nv'})\n",
        "    \n",
        "  vote = value[0].text\n",
        "  votes.append(vote)\n",
        "    \n",
        "  grosses = value[1].text if len(value) >1 else '*****'\n",
        "  gross.append(grosses)\n",
        "\n",
        "  describe = stored.find_all('p', class_ = 'text-muted')\n",
        "  description_ = describe[1].text.replace('\\n', '') if len(describe) >1 else '*****'\n",
        "  description.append(description_)"
      ],
      "execution_count": 35,
      "outputs": []
    },
    {
      "cell_type": "code",
      "metadata": {
        "id": "Q6JsQn4UgSJO"
      },
      "source": [
        "#creating dataframe \n",
        "a ={'Name of movie': movie_name, 'Year of release': year, 'Watchtime': time, 'Movie Rating': ratings, 'Metascore': metascore, 'Votes': votes, 'Gross collection': gross, 'Description': description}\n",
        "df = pd.DataFrame.from_dict(a, orient='index')\n",
        "df = df.transpose()"
      ],
      "execution_count": 48,
      "outputs": []
    },
    {
      "cell_type": "code",
      "metadata": {
        "colab": {
          "base_uri": "https://localhost:8080/",
          "height": 417
        },
        "id": "1qL6qoiMgTzQ",
        "outputId": "d2526eb7-1e9a-416b-ee80-d6622e249b48"
      },
      "source": [
        "df"
      ],
      "execution_count": 49,
      "outputs": [
        {
          "output_type": "execute_result",
          "data": {
            "text/html": [
              "<div>\n",
              "<style scoped>\n",
              "    .dataframe tbody tr th:only-of-type {\n",
              "        vertical-align: middle;\n",
              "    }\n",
              "\n",
              "    .dataframe tbody tr th {\n",
              "        vertical-align: top;\n",
              "    }\n",
              "\n",
              "    .dataframe thead th {\n",
              "        text-align: right;\n",
              "    }\n",
              "</style>\n",
              "<table border=\"1\" class=\"dataframe\">\n",
              "  <thead>\n",
              "    <tr style=\"text-align: right;\">\n",
              "      <th></th>\n",
              "      <th>Name of movie</th>\n",
              "      <th>Year of release</th>\n",
              "      <th>Watchtime</th>\n",
              "      <th>Movie Rating</th>\n",
              "      <th>Metascore</th>\n",
              "      <th>Votes</th>\n",
              "      <th>Gross collection</th>\n",
              "      <th>Description</th>\n",
              "    </tr>\n",
              "  </thead>\n",
              "  <tbody>\n",
              "    <tr>\n",
              "      <th>0</th>\n",
              "      <td>The Shawshank Redemption</td>\n",
              "      <td>1994</td>\n",
              "      <td>142</td>\n",
              "      <td>9.3</td>\n",
              "      <td>80</td>\n",
              "      <td>2,459,710</td>\n",
              "      <td>$28.34M</td>\n",
              "      <td>Two imprisoned men bond over a number of years...</td>\n",
              "    </tr>\n",
              "    <tr>\n",
              "      <th>1</th>\n",
              "      <td>The Godfather</td>\n",
              "      <td>1972</td>\n",
              "      <td>175</td>\n",
              "      <td>9.2</td>\n",
              "      <td>100</td>\n",
              "      <td>1,701,585</td>\n",
              "      <td>$134.97M</td>\n",
              "      <td>An organized crime dynasty's aging patriarch t...</td>\n",
              "    </tr>\n",
              "    <tr>\n",
              "      <th>2</th>\n",
              "      <td>Soorarai Pottru</td>\n",
              "      <td>2020</td>\n",
              "      <td>153</td>\n",
              "      <td>9.1</td>\n",
              "      <td>#####</td>\n",
              "      <td>89,663</td>\n",
              "      <td>*****</td>\n",
              "      <td>Nedumaaran Rajangam \"Maara\" sets out to make t...</td>\n",
              "    </tr>\n",
              "    <tr>\n",
              "      <th>3</th>\n",
              "      <td>The Dark Knight</td>\n",
              "      <td>2008</td>\n",
              "      <td>152</td>\n",
              "      <td>9.0</td>\n",
              "      <td>84</td>\n",
              "      <td>2,415,236</td>\n",
              "      <td>$534.86M</td>\n",
              "      <td>When the menace known as the Joker wreaks havo...</td>\n",
              "    </tr>\n",
              "    <tr>\n",
              "      <th>4</th>\n",
              "      <td>The Godfather: Part II</td>\n",
              "      <td>1974</td>\n",
              "      <td>202</td>\n",
              "      <td>9.0</td>\n",
              "      <td>90</td>\n",
              "      <td>1,181,867</td>\n",
              "      <td>$57.30M</td>\n",
              "      <td>The early life and career of Vito Corleone in ...</td>\n",
              "    </tr>\n",
              "    <tr>\n",
              "      <th>...</th>\n",
              "      <td>...</td>\n",
              "      <td>...</td>\n",
              "      <td>...</td>\n",
              "      <td>...</td>\n",
              "      <td>...</td>\n",
              "      <td>...</td>\n",
              "      <td>...</td>\n",
              "      <td>...</td>\n",
              "    </tr>\n",
              "    <tr>\n",
              "      <th>301</th>\n",
              "      <td>A Separation</td>\n",
              "      <td>2011</td>\n",
              "      <td>123</td>\n",
              "      <td>8.3</td>\n",
              "      <td>75</td>\n",
              "      <td>34,985</td>\n",
              "      <td>$47.70M</td>\n",
              "      <td>After his family was brutally murdered and his...</td>\n",
              "    </tr>\n",
              "    <tr>\n",
              "      <th>302</th>\n",
              "      <td>Incendies</td>\n",
              "      <td>2010</td>\n",
              "      <td>131</td>\n",
              "      <td>8.3</td>\n",
              "      <td>88</td>\n",
              "      <td>93,901</td>\n",
              "      <td>*****</td>\n",
              "      <td>A man refuses all assistance from his daughter...</td>\n",
              "    </tr>\n",
              "    <tr>\n",
              "      <th>303</th>\n",
              "      <td>Demon Slayer: Mugen Train</td>\n",
              "      <td>2020</td>\n",
              "      <td>117</td>\n",
              "      <td>8.3</td>\n",
              "      <td>#####</td>\n",
              "      <td>82,957</td>\n",
              "      <td>*****</td>\n",
              "      <td>The family of a left-wing journalist is torn a...</td>\n",
              "    </tr>\n",
              "    <tr>\n",
              "      <th>304</th>\n",
              "      <td>The Father</td>\n",
              "      <td>I 2020</td>\n",
              "      <td>97</td>\n",
              "      <td>8.3</td>\n",
              "      <td>None</td>\n",
              "      <td>None</td>\n",
              "      <td>None</td>\n",
              "      <td>None</td>\n",
              "    </tr>\n",
              "    <tr>\n",
              "      <th>305</th>\n",
              "      <td>My Father and My Son</td>\n",
              "      <td>2005</td>\n",
              "      <td>112</td>\n",
              "      <td>8.3</td>\n",
              "      <td>None</td>\n",
              "      <td>None</td>\n",
              "      <td>None</td>\n",
              "      <td>None</td>\n",
              "    </tr>\n",
              "  </tbody>\n",
              "</table>\n",
              "<p>306 rows × 8 columns</p>\n",
              "</div>"
            ],
            "text/plain": [
              "                 Name of movie  ...                                        Description\n",
              "0     The Shawshank Redemption  ...  Two imprisoned men bond over a number of years...\n",
              "1                The Godfather  ...  An organized crime dynasty's aging patriarch t...\n",
              "2              Soorarai Pottru  ...  Nedumaaran Rajangam \"Maara\" sets out to make t...\n",
              "3              The Dark Knight  ...  When the menace known as the Joker wreaks havo...\n",
              "4       The Godfather: Part II  ...  The early life and career of Vito Corleone in ...\n",
              "..                         ...  ...                                                ...\n",
              "301               A Separation  ...  After his family was brutally murdered and his...\n",
              "302                  Incendies  ...  A man refuses all assistance from his daughter...\n",
              "303  Demon Slayer: Mugen Train  ...  The family of a left-wing journalist is torn a...\n",
              "304                 The Father  ...                                               None\n",
              "305       My Father and My Son  ...                                               None\n",
              "\n",
              "[306 rows x 8 columns]"
            ]
          },
          "metadata": {},
          "execution_count": 49
        }
      ]
    },
    {
      "cell_type": "code",
      "metadata": {
        "id": "WvdABv0WyBg3"
      },
      "source": [
        "#change to csv\n",
        "df.to_csv('movies.csv')"
      ],
      "execution_count": 50,
      "outputs": []
    },
    {
      "cell_type": "code",
      "metadata": {
        "colab": {
          "base_uri": "https://localhost:8080/"
        },
        "id": "oW_hwmNMyBoc",
        "outputId": "a1c77635-56f1-465a-cc83-371c83bb9b47"
      },
      "source": [
        "data = pd.read_csv('movies.csv')\n",
        "data.shape"
      ],
      "execution_count": 51,
      "outputs": [
        {
          "output_type": "execute_result",
          "data": {
            "text/plain": [
              "(306, 9)"
            ]
          },
          "metadata": {},
          "execution_count": 51
        }
      ]
    },
    {
      "cell_type": "code",
      "metadata": {
        "id": "6lmTsN0_3Pu7"
      },
      "source": [
        "#save dataframe to sql database\n",
        "import sqlite3"
      ],
      "execution_count": 52,
      "outputs": []
    },
    {
      "cell_type": "code",
      "metadata": {
        "id": "m_gvF6jC3gSL"
      },
      "source": [
        "conn = sqlite3.connect('TestDB.db')\n",
        "c = conn.cursor()"
      ],
      "execution_count": 53,
      "outputs": []
    },
    {
      "cell_type": "code",
      "metadata": {
        "id": "lxzPQFzx3w4m"
      },
      "source": [
        "c.execute('CREATE TABLE IF NOT EXISTS movies (Name of movie, Year of release, Watchtime, Movie Rating, Metascore, Vote, Gross collection, Description)')\n",
        "conn.commit()"
      ],
      "execution_count": 64,
      "outputs": []
    },
    {
      "cell_type": "code",
      "metadata": {
        "colab": {
          "base_uri": "https://localhost:8080/"
        },
        "id": "fdUmmejv4h4_",
        "outputId": "8cfff942-d7bf-401d-d845-72ecdba941d6"
      },
      "source": [
        "data.to_sql('movies', conn, if_exists = 'replace', index = False)"
      ],
      "execution_count": 65,
      "outputs": [
        {
          "output_type": "stream",
          "name": "stderr",
          "text": [
            "/usr/local/lib/python3.7/dist-packages/pandas/core/generic.py:2615: UserWarning: The spaces in these column names will not be changed. In pandas versions < 0.14, spaces were converted to underscores.\n",
            "  method=method,\n"
          ]
        }
      ]
    },
    {
      "cell_type": "code",
      "metadata": {
        "colab": {
          "base_uri": "https://localhost:8080/"
        },
        "id": "kxODlphd4_g7",
        "outputId": "5c6bf041-0e63-4a8e-8368-efde97996182"
      },
      "source": [
        "c.execute('''SELECT * FROM movies''')"
      ],
      "execution_count": 66,
      "outputs": [
        {
          "output_type": "execute_result",
          "data": {
            "text/plain": [
              "<sqlite3.Cursor at 0x7fcf8394cd50>"
            ]
          },
          "metadata": {},
          "execution_count": 66
        }
      ]
    },
    {
      "cell_type": "code",
      "metadata": {
        "colab": {
          "base_uri": "https://localhost:8080/"
        },
        "id": "tGvfjxr85Kdg",
        "outputId": "f1793a28-c8a7-4796-8c44-bf3cd68db704"
      },
      "source": [
        "for row in c.fetchall():\n",
        "  print(row)"
      ],
      "execution_count": 67,
      "outputs": [
        {
          "output_type": "stream",
          "name": "stdout",
          "text": [
            "(0, 'The Shawshank Redemption', '1994', 142, 9.3, '80', '2,459,710', '$28.34M', 'Two imprisoned men bond over a number of years, finding solace and eventual redemption through acts of common decency.')\n",
            "(1, 'The Godfather', '1972', 175, 9.2, '100', '1,701,585', '$134.97M', \"An organized crime dynasty's aging patriarch transfers control of his clandestine empire to his reluctant son.\")\n",
            "(2, 'Soorarai Pottru', '2020', 153, 9.1, '#####', '89,663', '*****', 'Nedumaaran Rajangam \"Maara\" sets out to make the common man fly and in the process takes on the world\\'s most capital intensive industry and several enemies who stand in his way.')\n",
            "(3, 'The Dark Knight', '2008', 152, 9.0, '84', '2,415,236', '$534.86M', 'When the menace known as the Joker wreaks havoc and chaos on the people of Gotham, Batman must accept one of the greatest psychological and physical tests of his ability to fight injustice.')\n",
            "(4, 'The Godfather: Part II', '1974', 202, 9.0, '90', '1,181,867', '$57.30M', 'The early life and career of Vito Corleone in 1920s New York City is portrayed, while his son, Michael, expands and tightens his grip on the family crime syndicate.')\n",
            "(5, '12 Angry Men', '1957', 96, 9.0, '96', '728,178', '$4.36M', 'A jury holdout attempts to prevent a miscarriage of justice by forcing his colleagues to reconsider the evidence.')\n",
            "(6, 'Dara of Jasenovac', '2020', 130, 8.9, '#####', '79,185', '*****', 'Follows the story of a young girl named Dara who is sent to a concentration camp in Croatia during World War 2.')\n",
            "(7, 'The Lord of the Rings: The Return of the King', '2003', 201, 8.9, '94', '1,707,354', '$377.85M', \"Gandalf and Aragorn lead the World of Men against Sauron's army to draw his gaze from Frodo and Sam as they approach Mount Doom with the One Ring.\")\n",
            "(8, 'Pulp Fiction', '1994', 154, 8.9, '94', '1,905,606', '$107.93M', 'The lives of two mob hitmen, a boxer, a gangster and his wife, and a pair of diner bandits intertwine in four tales of violence and redemption.')\n",
            "(9, \"Schindler's List\", '1993', 195, 8.9, '94', '1,264,630', '$96.90M', 'In German-occupied Poland during World War II, industrialist Oskar Schindler gradually becomes concerned for his Jewish workforce after witnessing their persecution by the Nazis.')\n",
            "(10, 'Inception', '2010', 148, 8.8, '74', '2,166,798', '$292.58M', 'A thief who steals corporate secrets through the use of dream-sharing technology is given the inverse task of planting an idea into the mind of a C.E.O.')\n",
            "(11, 'Shershaah', '2021', 135, 8.8, '#####', '99,519', '*****', 'This is a story of a PVC awardee brave Indian soldier - Capt. Vikram Batra, who shot to fame and became a household name during the Kargil War in 1999. His indomitable spirit and his unflinching courage in chasing the Pakistani soldiers out of Indian territory contributed immensely in India finally winning the Kargil War in 1999.')\n",
            "(12, 'Fight Club', '1999', 139, 8.8, '66', '1,937,371', '$37.03M', 'An insomniac office worker and a devil-may-care soap maker form an underground fight club that evolves into much more.')\n",
            "(13, 'The Lord of the Rings: The Fellowship of the Ring', '2001', 178, 8.8, '92', '1,728,637', '$315.54M', 'A meek Hobbit from the Shire and eight companions set out on a journey to destroy the powerful One Ring and save Middle-earth from the Dark Lord Sauron.')\n",
            "(14, 'Forrest Gump', '1994', 142, 8.8, '82', '1,901,775', '$330.25M', 'The presidencies of Kennedy and Johnson, the Vietnam War, the Watergate scandal and other historical events unfold from the perspective of an Alabama man with an IQ of 75, whose only desire is to be reunited with his childhood sweetheart.')\n",
            "(15, 'The Good, the Bad and the Ugly', '1966', 178, 8.8, '90', '716,763', '$6.10M', 'A bounty hunting scam joins two men in an uneasy alliance against a third in a race to find a fortune in gold buried in a remote cemetery.')\n",
            "(16, 'The Lord of the Rings: The Two Towers', '2002', 179, 8.7, '87', '1,543,603', '$342.55M', \"While Frodo and Sam edge closer to Mordor with the help of the shifty Gollum, the divided fellowship makes a stand against Sauron's new ally, Saruman, and his hordes of Isengard.\")\n",
            "(17, 'The Matrix', '1999', 136, 8.7, '73', '1,752,637', '$171.48M', 'When a beautiful stranger leads computer hacker Neo to a forbidding underworld, he discovers the shocking truth--the life he knows is the elaborate deception of an evil cyber-intelligence.')\n",
            "(18, 'Goodfellas', '1990', 146, 8.7, '90', '1,068,160', '$46.84M', 'The story of Henry Hill and his life in the mob, covering his relationship with his wife Karen Hill and his mob partners Jimmy Conway and Tommy DeVito in the Italian-American crime syndicate.')\n",
            "(19, 'Star Wars: Episode V - The Empire Strikes Back', '1980', 124, 8.7, '82', '1,203,524', '$290.48M', 'After the Rebels are brutally overpowered by the Empire on the ice planet Hoth, Luke Skywalker begins Jedi training with Yoda, while his friends are pursued across the galaxy by Darth Vader and bounty hunter Boba Fett.')\n",
            "(20, \"One Flew Over the Cuckoo's Nest\", '1975', 133, 8.7, '84', '952,827', '$112.00M', 'A criminal pleads insanity and is admitted to a mental institution, where he rebels against the oppressive nurse and rallies up the scared patients.')\n",
            "(21, 'Parasite', '2019', 132, 8.6, '96', '656,889', '$53.37M', 'Greed and class discrimination threaten the newly formed symbiotic relationship between the wealthy Park family and the destitute Kim clan.')\n",
            "(22, 'Drishyam 2', '2021', 152, 8.6, '#####', '30,600', '*****', 'A gripping tale of an investigation and a family which is threatened by it. Will Georgekutty be able to protect his family this time?')\n",
            "(23, 'Interstellar', '2014', 169, 8.6, '74', '1,611,310', '$188.02M', \"A team of explorers travel through a wormhole in space in an attempt to ensure humanity's survival.\")\n",
            "(24, 'City of God', '2002', 130, 8.6, '79', '721,114', '$7.56M', \"In the slums of Rio, two kids' paths diverge as one struggles to become a photographer and the other a kingpin.\")\n",
            "(25, 'Spirited Away', '2001', 125, 8.6, '96', '692,157', '$10.06M', \"During her family's move to the suburbs, a sullen 10-year-old girl wanders into a world ruled by gods, witches, and spirits, and where humans are changed into beasts.\")\n",
            "(26, 'Saving Private Ryan', '1998', 169, 8.6, '91', '1,290,084', '$216.54M', 'Following the Normandy Landings, a group of U.S. soldiers go behind enemy lines to retrieve a paratrooper whose brothers have been killed in action.')\n",
            "(27, 'The Green Mile', '1999', 189, 8.6, '61', '1,201,609', '$136.80M', 'The lives of guards on Death Row are affected by one of their charges: a black man accused of child murder and rape, yet who has a mysterious gift.')\n",
            "(28, 'Life Is Beautiful', '1997', 116, 8.6, '59', '651,072', '$57.60M', 'When an open-minded Jewish librarian and his son become victims of the Holocaust, he uses a perfect mixture of will, humor, and imagination to protect his son from the dangers around their camp.')\n",
            "(29, 'Se7en', '1995', 127, 8.6, '65', '1,514,011', '$100.13M', 'Two detectives, a rookie and a veteran, hunt a serial killer who uses the seven deadly sins as his motives.')\n",
            "(30, 'The Silence of the Lambs', '1991', 118, 8.6, '85', '1,329,659', '$130.74M', 'A young F.B.I. cadet must receive the help of an incarcerated and manipulative cannibal killer to help catch another serial killer, a madman who skins his victims.')\n",
            "(31, 'Star Wars: Episode IV - A New Hope', '1977', 121, 8.6, '90', '1,275,371', '$322.74M', \"Luke Skywalker joins forces with a Jedi Knight, a cocky pilot, a Wookiee and two droids to save the galaxy from the Empire's world-destroying battle station, while also attempting to rescue Princess Leia from the mysterious Darth Vader.\")\n",
            "(32, 'Hara-Kiri', '1962', 133, 8.6, '85', '48,837', '*****', \"When a ronin requesting seppuku at a feudal lord's palace is told of the brutal suicide of another ronin who previously visited, he reveals how their pasts are intertwined - and in doing so challenges the clan's integrity.\")\n",
            "(33, 'Seven Samurai', '1954', 207, 8.6, '98', '328,479', '$0.27M', 'A poor village under attack by bandits recruits seven unemployed samurai to help them defend themselves.')\n",
            "(34, \"It's a Wonderful Life\", '1946', 130, 8.6, '89', '421,866', '*****', 'An angel is sent from Heaven to help a desperately frustrated businessman by showing him what life would have been like if he had never existed.')\n",
            "(35, 'Raatchasan', '2018', 170, 8.5, '#####', '34,620', '*****', 'A sub-inspector sets out in pursuit of a mysterious serial killer who targets teen school girls and murders them brutally.')\n",
            "(36, 'Whiplash', '2014', 106, 8.5, '88', '761,768', '$13.09M', \"A promising young drummer enrolls at a cut-throat music conservatory where his dreams of greatness are mentored by an instructor who will stop at nothing to realize a student's potential.\")\n",
            "(37, 'The Intouchables', '2011', 112, 8.5, '57', '795,483', '$13.18M', 'After he becomes a quadriplegic from a paragliding accident, an aristocrat hires a young man from the projects to be his caregiver.')\n",
            "(38, 'The Prestige', '2006', 130, 8.5, '66', '1,243,046', '$53.09M', 'After a tragic accident, two stage magicians engage in a battle to create the ultimate illusion while sacrificing everything they have to outwit each other.')\n",
            "(39, 'The Departed', '2006', 151, 8.5, '85', '1,238,944', '$132.38M', 'A crime action film about an undercover cop and a mole in the police attempting to identify each other while infiltrating an Irish gang in South Boston.')\n",
            "(40, 'The Pianist', '2002', 150, 8.5, '85', '769,131', '$32.57M', 'A Polish Jewish musician struggles to survive the destruction of the Warsaw ghetto of World War II.')\n",
            "(41, 'Gladiator', '2000', 155, 8.5, '67', '1,396,606', '$187.71M', 'A former Roman General sets out to exact vengeance against the corrupt emperor who murdered his family and sent him into slavery.')\n",
            "(42, 'American History X', '1998', 119, 8.5, '62', '1,066,216', '$6.72M', 'A former neo-nazi skinhead tries to prevent his younger brother from going down the same wrong path that he did.')\n",
            "(43, 'The Usual Suspects', '1995', 106, 8.5, '77', '1,027,529', '$23.34M', 'A sole survivor tells of the twisty events leading up to a horrific gun battle on a boat, which began when five criminals met at a seemingly random police lineup.')\n",
            "(44, 'Léon: The Professional', '1994', 110, 8.5, '64', '1,079,848', '$19.50M', \"Mathilda, a 12-year-old girl, is reluctantly taken in by Léon, a professional assassin, after her family is murdered. An unusual relationship forms as she becomes his protégée and learns the assassin's trade.\")\n",
            "(45, 'The Lion King', '1994', 88, 8.5, '88', '982,201', '$422.78M', 'Lion prince Simba and his father are targeted by his bitter uncle, who wants to ascend the throne himself.')\n",
            "(46, 'Terminator 2: Judgment Day', '1991', 137, 8.5, '75', '1,032,389', '$204.84M', 'A cyborg, identical to the one who failed to kill Sarah Connor, must now protect her ten year old son, John Connor, from a more advanced and powerful cyborg.')\n",
            "(47, 'Cinema Paradiso', '1988', 155, 8.5, '80', '244,920', '$11.99M', \"A filmmaker recalls his childhood when falling in love with the pictures at the cinema of his home village and forms a deep friendship with the cinema's projectionist.\")\n",
            "(48, 'Grave of the Fireflies', '1988', 89, 8.5, '94', '252,088', '*****', 'A young boy and his little sister struggle to survive in Japan during World War II.')\n",
            "(49, 'Back to the Future', '1985', 116, 8.5, '87', '1,111,097', '$210.61M', 'Marty McFly, a 17-year-old high school student, is accidentally sent thirty years into the past in a time-traveling DeLorean invented by his close friend, the eccentric scientist Doc Brown.')\n",
            "(50, 'Once Upon a Time in the West', '1968', 165, 8.5, '80', '313,977', '$5.32M', 'A mysterious stranger with a harmonica joins forces with a notorious desperado to protect a beautiful widow from a ruthless assassin working for the railroad.')\n",
            "(51, 'Psycho', '1960', 109, 8.5, '97', '629,494', '$32.00M', \"A Phoenix secretary embezzles $40,000 from her employer's client, goes on the run, and checks into a remote motel run by a young man under the domination of his mother.\")\n",
            "(52, 'Pather Panchali', '1955', 125, 8.5, '#####', '28,310', '$0.54M', 'Impoverished priest Harihar Ray, dreaming of a better life for himself and his family, leaves his rural Bengal village in search of work.')\n",
            "(53, 'Rear Window', '1954', 112, 8.5, '100', '464,555', '$36.76M', 'A wheelchair-bound photographer spies on his neighbors from his apartment window and becomes convinced one of them has committed murder.')\n",
            "(54, 'Casablanca', '1942', 102, 8.5, '100', '542,195', '$1.02M', 'A cynical expatriate American cafe owner struggles to decide whether or not to help his former lover and her fugitive husband escape the Nazis in French Morocco.')\n",
            "(55, 'Modern Times', '1936', 87, 8.5, '96', '228,337', '$0.16M', 'The Tramp struggles to live in modern industrial society with the help of a young homeless woman.')\n",
            "(56, 'City Lights', '1931', 87, 8.5, '99', '175,684', '$0.02M', 'With the aid of a wealthy erratic tippler, a dewy-eyed tramp who has fallen in love with a sightless flower girl accumulates money to be able to help her medically.')\n",
            "(57, 'Hamilton', '2020', 160, 8.4, '90', '73,148', '*****', \"The real life of one of America's foremost founding fathers and first Secretary of the Treasury, Alexander Hamilton. Captured live on Broadway from the Richard Rodgers Theater with the original Broadway cast.\")\n",
            "(58, 'Capharnaüm', '2018', 126, 8.4, '75', '74,864', '$1.66M', 'While serving a five-year sentence for a violent crime, a 12-year-old boy sues his parents for neglect.')\n",
            "(59, 'Joker', '2019', 122, 8.4, '59', '1,063,243', '$335.45M', 'In Gotham City, mentally troubled comedian Arthur Fleck is disregarded and mistreated by society. He then embarks on a downward spiral of revolution and bloody crime. This path brings him face-to-face with his alter-ego: the Joker.')\n",
            "(60, 'Ayla: The Daughter of War', '2017', 125, 8.4, '#####', '36,963', '*****', 'In 1950, amid-st the ravages of the Korean War, Sergeant Süleyman stumbles upon a half-frozen little girl, with no parents and no help in sight. Frantic, scared and on the verge of death, ...                See full summary\\xa0»')\n",
            "(61, 'Your Name.', '2016', 106, 8.4, '79', '223,781', '$5.02M', 'Two strangers find themselves linked in a bizarre way. When a connection forms, will distance be the only thing to keep them apart?')\n",
            "(62, 'Dangal', '2016', 161, 8.4, '#####', '170,955', '$12.39M', 'Former wrestler Mahavir Singh Phogat and his two wrestler daughters struggle towards glory at the Commonwealth Games in the face of societal oppression.')\n",
            "(63, 'Spider-Man: Into the Spider-Verse', '2018', 117, 8.4, '87', '425,458', '$190.24M', 'Teen Miles Morales becomes the Spider-Man of his universe, and must join with five spider-powered individuals from other dimensions to stop a threat for all realities.')\n",
            "(64, 'Avengers: Endgame', '2019', 181, 8.4, '78', '935,344', '$858.37M', \"After the devastating events of Avengers: Infinity War (2018), the universe is in ruins. With the help of remaining allies, the Avengers assemble once more in order to reverse Thanos' actions and restore balance to the universe.\")\n",
            "(65, 'Avengers: Infinity War', '2018', 149, 8.4, '68', '921,335', '$678.82M', 'The Avengers and their allies must be willing to sacrifice all in an attempt to defeat the powerful Thanos before his blitz of devastation and ruin puts an end to the universe.')\n",
            "(66, 'Coco', 'I 2017', 105, 8.4, '81', '430,352', '$209.73M', \"Aspiring musician Miguel, confronted with his family's ancestral ban on music, enters the Land of the Dead to find his great-great-grandfather, a legendary singer.\")\n",
            "(67, 'Django Unchained', '2012', 165, 8.4, '81', '1,424,157', '$162.81M', 'With the help of a German bounty-hunter, a freed slave sets out to rescue his wife from a brutal plantation-owner in Mississippi.')\n",
            "(68, 'The Dark Knight Rises', '2012', 164, 8.4, '78', '1,575,775', '$448.14M', \"Eight years after the Joker's reign of anarchy, Batman, with the help of the enigmatic Catwoman, is forced from his exile to save Gotham City from the brutal guerrilla terrorist Bane.\")\n",
            "(69, '3 Idiots', '2009', 170, 8.4, '67', '367,126', '$6.53M', 'Two friends are searching for their long lost companion. They revisit their college days and recall the memories of their friend who inspired them to think differently, even as the rest of the world called them \"idiots\".')\n",
            "(70, 'Like Stars on Earth', '2007', 165, 8.4, '#####', '180,396', '$1.22M', 'An eight-year-old boy is thought to be a lazy trouble-maker, until the new art teacher has the patience and compassion to discover the real problem behind his struggles in school.')\n",
            "(71, 'WALL·E', '2008', 98, 8.4, '95', '1,041,157', '$223.81M', 'In the distant future, a small waste-collecting robot inadvertently embarks on a space journey that will ultimately decide the fate of mankind.')\n",
            "(72, 'The Lives of Others', '2006', 137, 8.4, '89', '372,247', '$11.29M', 'In 1984 East Berlin, an agent of the secret police, conducting surveillance on a writer and his lover, finds himself becoming increasingly absorbed by their lives.')\n",
            "(73, 'Oldboy', '2003', 120, 8.4, '77', '539,836', '$0.71M', 'After being kidnapped and imprisoned for fifteen years, Oh Dae-Su is released, only to find that he must find his captor in five days.')\n",
            "(74, 'Memento', '2000', 113, 8.4, '80', '1,167,749', '$25.54M', \"A man with short-term memory loss attempts to track down his wife's murderer.\")\n",
            "(75, 'Princess Mononoke', '1997', 134, 8.4, '76', '364,135', '$2.38M', \"On a journey to find the cure for a Tatarigami's curse, Ashitaka finds himself in the middle of a war between the forest gods and Tatara, a mining colony. In this quest he also meets San, the Mononoke Hime.\")\n",
            "(76, 'Once Upon a Time in America', '1984', 229, 8.4, '75', '327,706', '$5.32M', 'A former Prohibition-era Jewish gangster returns to the Lower East Side of Manhattan over thirty years later, where he once again must confront the ghosts and regrets of his old life.')\n",
            "(77, 'Indiana Jones and the Raiders of the Lost Ark', '1981', 115, 8.4, '85', '915,918', '$248.16M', \"In 1936, archaeologist and adventurer Indiana Jones is hired by the U.S. government to find the Ark of the Covenant before Adolf Hitler's Nazis can obtain its awesome powers.\")\n",
            "(78, 'The Shining', '1980', 146, 8.4, '66', '940,643', '$44.02M', 'A family heads to an isolated hotel for the winter where a sinister presence influences the father into violence, while his psychic son sees horrific forebodings from both past and future.')\n",
            "(79, 'Apocalypse Now', '1979', 147, 8.4, '94', '628,993', '$83.47M', 'A U.S. Army officer serving in Vietnam is tasked with assassinating a renegade Special Forces Colonel who sees himself as a god.')\n",
            "(80, 'Alien', '1979', 117, 8.4, '89', '821,940', '$78.90M', 'After a space merchant vessel receives an unknown transmission as a distress call, one of the crew is attacked by a mysterious life form and they soon realize that its life cycle has merely begun.')\n",
            "(81, 'High and Low', '1963', 143, 8.4, '#####', '39,436', '*****', \"An executive of a shoe company becomes a victim of extortion when his chauffeur's son is kidnapped and held for ransom.\")\n",
            "(82, 'Dr. Strangelove or: How I Learned to Stop Worrying and Love the Bomb', '1964', 95, 8.4, '97', '467,115', '$0.28M', 'An insane general triggers a path to nuclear holocaust that a War Room full of politicians and generals frantically tries to stop.')\n",
            "(83, 'Witness for the Prosecution', '1957', 116, 8.4, '#####', '116,127', '$8.18M', 'A veteran British barrister must defend his client in a murder trial that has surprise after surprise.')\n",
            "(84, 'Paths of Glory', '1957', 88, 8.4, '90', '186,853', '*****', 'After refusing to attack an enemy position, a general accuses the soldiers of cowardice and their commanding officer must defend them.')\n",
            "(85, 'Sunset Blvd.', '1950', 110, 8.4, '#####', '210,790', '*****', 'A screenwriter develops a dangerous relationship with a faded film star determined to make a triumphant return.')\n",
            "(86, 'The Great Dictator', '1940', 125, 8.4, '#####', '212,931', '$0.29M', \"Dictator Adenoid Hynkel tries to expand his empire while a poor Jewish barber tries to avoid persecution from Hynkel's regime.\")\n",
            "(87, 'Chhichhore', '2019', 143, 8.3, '#####', '43,794', '$0.90M', 'A tragic incident forces Anirudh, a middle-aged man, to take a trip down memory lane and reminisce his college days along with his friends, who were labelled as losers.')\n",
            "(88, '1917', '2019', 119, 8.3, '78', '489,082', '$159.23M', 'April 6th, 1917. As a regiment assembles to wage war deep in enemy territory, two soldiers are assigned to race against time and deliver a message that will stop 1,600 men from walking straight into a deadly trap.')\n",
            "(89, 'Uri: The Surgical Strike', '2019', 138, 8.3, '#####', '51,303', '$4.19M', 'Indian army special forces execute a covert operation, avenging the killing of fellow army men at their base by a terrorist group.')\n",
            "(90, 'Tumbbad', '2018', 104, 8.3, '#####', '36,665', '*****', 'A mythological story about a goddess who created the entire universe. The plot revolves around the consequences when humans build a temple for her first-born.')\n",
            "(91, 'K.G.F: Chapter 1', '2018', 156, 8.3, '#####', '47,278', '*****', 'In the 1970s, a fierce rebel rises against brutal oppression and becomes the symbol of hope to legions of downtrodden people.')\n",
            "(92, 'Vikram Vedha', '2017', 147, 8.3, '#####', '33,400', '*****', \"Vikram, a no-nonsense police officer, accompanied by Simon, his partner, is on the hunt to capture Vedha, a smuggler and a murderer. Vedha tries to change Vikram's life, which leads to a conflict.\")\n",
            "(93, 'Drishyam', '2013', 160, 8.3, '#####', '38,034', '*****', 'A man goes to extreme lengths to save his family from punishment after the family commits an accidental crime.')\n",
            "(94, 'The Hunt', '2012', 115, 8.3, '77', '302,611', '$0.69M', \"A teacher lives a lonely life, all the while struggling over his son's custody. His life slowly gets better as he finds love and receives good news from his son, but his new luck is about to be brutally shattered by an innocent little lie.\")\n",
            "(95, 'A Separation', '2011', 123, 8.3, '95', '231,684', '$7.10M', \"A married couple are faced with a difficult decision - to improve the life of their child by moving to another country or to stay in Iran and look after a deteriorating parent who has Alzheimer's disease.\")\n",
            "(96, 'Incendies', '2010', 131, 8.3, '80', '161,442', '$6.86M', \"Twins journey to the Middle East to discover their family history and fulfill their mother's last wishes.\")\n",
            "(97, 'Demon Slayer: Mugen Train', '2020', 117, 8.3, '75', '34,985', '$47.70M', \"After his family was brutally murdered and his sister turned into a demon, Tanjiro Kamado's journey as a demon slayer began. Tanjiro and his comrades embark on a new mission aboard the Mugen Train, on track to despair.\")\n",
            "(98, 'The Father', 'I 2020', 97, 8.3, '88', '93,901', '*****', 'A man refuses all assistance from his daughter as he ages. As he tries to make sense of his changing circumstances, he begins to doubt his loved ones, his own mind and even the fabric of his reality.')\n",
            "(99, 'My Father and My Son', '2005', 112, 8.3, '#####', '82,957', '*****', 'The family of a left-wing journalist is torn apart after the military coup of Turkey in 1980.')\n",
            "(100, 'The Shawshank Redemption', '1994', 142, 9.3, '80', '2,459,710', '$28.34M', 'Two imprisoned men bond over a number of years, finding solace and eventual redemption through acts of common decency.')\n",
            "(101, 'The Godfather', '1972', 175, 9.2, '100', '1,701,585', '$134.97M', \"An organized crime dynasty's aging patriarch transfers control of his clandestine empire to his reluctant son.\")\n",
            "(102, 'Soorarai Pottru', '2020', 153, 9.1, '80', '2,459,710', '$28.34M', 'Two imprisoned men bond over a number of years, finding solace and eventual redemption through acts of common decency.')\n",
            "(103, 'The Shawshank Redemption', '1994', 142, 9.3, '100', '1,701,585', '$134.97M', \"An organized crime dynasty's aging patriarch transfers control of his clandestine empire to his reluctant son.\")\n",
            "(104, 'The Godfather', '1972', 175, 9.2, '80', '2,459,710', '$28.34M', 'Two imprisoned men bond over a number of years, finding solace and eventual redemption through acts of common decency.')\n",
            "(105, 'Soorarai Pottru', '2020', 153, 9.1, '100', '1,701,585', '$134.97M', \"An organized crime dynasty's aging patriarch transfers control of his clandestine empire to his reluctant son.\")\n",
            "(106, 'The Shawshank Redemption', '1994', 142, 9.3, '#####', '89,663', '*****', 'Nedumaaran Rajangam \"Maara\" sets out to make the common man fly and in the process takes on the world\\'s most capital intensive industry and several enemies who stand in his way.')\n",
            "(107, 'The Godfather', '1972', 175, 9.2, '84', '2,415,236', '$534.86M', 'When the menace known as the Joker wreaks havoc and chaos on the people of Gotham, Batman must accept one of the greatest psychological and physical tests of his ability to fight injustice.')\n",
            "(108, 'Soorarai Pottru', '2020', 153, 9.1, '90', '1,181,867', '$57.30M', 'The early life and career of Vito Corleone in 1920s New York City is portrayed, while his son, Michael, expands and tightens his grip on the family crime syndicate.')\n",
            "(109, 'The Dark Knight', '2008', 152, 9.0, '96', '728,178', '$4.36M', 'A jury holdout attempts to prevent a miscarriage of justice by forcing his colleagues to reconsider the evidence.')\n",
            "(110, 'The Godfather: Part II', '1974', 202, 9.0, '#####', '79,185', '*****', 'Follows the story of a young girl named Dara who is sent to a concentration camp in Croatia during World War 2.')\n",
            "(111, '12 Angry Men', '1957', 96, 9.0, '94', '1,707,354', '$377.85M', \"Gandalf and Aragorn lead the World of Men against Sauron's army to draw his gaze from Frodo and Sam as they approach Mount Doom with the One Ring.\")\n",
            "(112, 'Dara of Jasenovac', '2020', 130, 8.9, '94', '1,905,606', '$107.93M', 'The lives of two mob hitmen, a boxer, a gangster and his wife, and a pair of diner bandits intertwine in four tales of violence and redemption.')\n",
            "(113, 'The Lord of the Rings: The Return of the King', '2003', 201, 8.9, '94', '1,264,630', '$96.90M', 'In German-occupied Poland during World War II, industrialist Oskar Schindler gradually becomes concerned for his Jewish workforce after witnessing their persecution by the Nazis.')\n",
            "(114, 'Pulp Fiction', '1994', 154, 8.9, '74', '2,166,798', '$292.58M', 'A thief who steals corporate secrets through the use of dream-sharing technology is given the inverse task of planting an idea into the mind of a C.E.O.')\n",
            "(115, \"Schindler's List\", '1993', 195, 8.9, '#####', '99,519', '*****', 'This is a story of a PVC awardee brave Indian soldier - Capt. Vikram Batra, who shot to fame and became a household name during the Kargil War in 1999. His indomitable spirit and his unflinching courage in chasing the Pakistani soldiers out of Indian territory contributed immensely in India finally winning the Kargil War in 1999.')\n",
            "(116, 'Inception', '2010', 148, 8.8, '66', '1,937,371', '$37.03M', 'An insomniac office worker and a devil-may-care soap maker form an underground fight club that evolves into much more.')\n",
            "(117, 'Shershaah', '2021', 135, 8.8, '92', '1,728,637', '$315.54M', 'A meek Hobbit from the Shire and eight companions set out on a journey to destroy the powerful One Ring and save Middle-earth from the Dark Lord Sauron.')\n",
            "(118, 'Fight Club', '1999', 139, 8.8, '82', '1,901,775', '$330.25M', 'The presidencies of Kennedy and Johnson, the Vietnam War, the Watergate scandal and other historical events unfold from the perspective of an Alabama man with an IQ of 75, whose only desire is to be reunited with his childhood sweetheart.')\n",
            "(119, 'The Lord of the Rings: The Fellowship of the Ring', '2001', 178, 8.8, '90', '716,763', '$6.10M', 'A bounty hunting scam joins two men in an uneasy alliance against a third in a race to find a fortune in gold buried in a remote cemetery.')\n",
            "(120, 'Forrest Gump', '1994', 142, 8.8, '87', '1,543,603', '$342.55M', \"While Frodo and Sam edge closer to Mordor with the help of the shifty Gollum, the divided fellowship makes a stand against Sauron's new ally, Saruman, and his hordes of Isengard.\")\n",
            "(121, 'The Good, the Bad and the Ugly', '1966', 178, 8.8, '73', '1,752,637', '$171.48M', 'When a beautiful stranger leads computer hacker Neo to a forbidding underworld, he discovers the shocking truth--the life he knows is the elaborate deception of an evil cyber-intelligence.')\n",
            "(122, 'The Lord of the Rings: The Two Towers', '2002', 179, 8.7, '90', '1,068,160', '$46.84M', 'The story of Henry Hill and his life in the mob, covering his relationship with his wife Karen Hill and his mob partners Jimmy Conway and Tommy DeVito in the Italian-American crime syndicate.')\n",
            "(123, 'The Matrix', '1999', 136, 8.7, '82', '1,203,524', '$290.48M', 'After the Rebels are brutally overpowered by the Empire on the ice planet Hoth, Luke Skywalker begins Jedi training with Yoda, while his friends are pursued across the galaxy by Darth Vader and bounty hunter Boba Fett.')\n",
            "(124, 'Goodfellas', '1990', 146, 8.7, '84', '952,827', '$112.00M', 'A criminal pleads insanity and is admitted to a mental institution, where he rebels against the oppressive nurse and rallies up the scared patients.')\n",
            "(125, 'Star Wars: Episode V - The Empire Strikes Back', '1980', 124, 8.7, '96', '656,889', '$53.37M', 'Greed and class discrimination threaten the newly formed symbiotic relationship between the wealthy Park family and the destitute Kim clan.')\n",
            "(126, \"One Flew Over the Cuckoo's Nest\", '1975', 133, 8.7, '#####', '30,600', '*****', 'A gripping tale of an investigation and a family which is threatened by it. Will Georgekutty be able to protect his family this time?')\n",
            "(127, 'Parasite', '2019', 132, 8.6, '74', '1,611,310', '$188.02M', \"A team of explorers travel through a wormhole in space in an attempt to ensure humanity's survival.\")\n",
            "(128, 'Drishyam 2', '2021', 152, 8.6, '79', '721,114', '$7.56M', \"In the slums of Rio, two kids' paths diverge as one struggles to become a photographer and the other a kingpin.\")\n",
            "(129, 'Interstellar', '2014', 169, 8.6, '96', '692,157', '$10.06M', \"During her family's move to the suburbs, a sullen 10-year-old girl wanders into a world ruled by gods, witches, and spirits, and where humans are changed into beasts.\")\n",
            "(130, 'City of God', '2002', 130, 8.6, '91', '1,290,084', '$216.54M', 'Following the Normandy Landings, a group of U.S. soldiers go behind enemy lines to retrieve a paratrooper whose brothers have been killed in action.')\n",
            "(131, 'Spirited Away', '2001', 125, 8.6, '61', '1,201,609', '$136.80M', 'The lives of guards on Death Row are affected by one of their charges: a black man accused of child murder and rape, yet who has a mysterious gift.')\n",
            "(132, 'Saving Private Ryan', '1998', 169, 8.6, '59', '651,072', '$57.60M', 'When an open-minded Jewish librarian and his son become victims of the Holocaust, he uses a perfect mixture of will, humor, and imagination to protect his son from the dangers around their camp.')\n",
            "(133, 'The Green Mile', '1999', 189, 8.6, '65', '1,514,011', '$100.13M', 'Two detectives, a rookie and a veteran, hunt a serial killer who uses the seven deadly sins as his motives.')\n",
            "(134, 'Life Is Beautiful', '1997', 116, 8.6, '85', '1,329,659', '$130.74M', 'A young F.B.I. cadet must receive the help of an incarcerated and manipulative cannibal killer to help catch another serial killer, a madman who skins his victims.')\n",
            "(135, 'Se7en', '1995', 127, 8.6, '90', '1,275,371', '$322.74M', \"Luke Skywalker joins forces with a Jedi Knight, a cocky pilot, a Wookiee and two droids to save the galaxy from the Empire's world-destroying battle station, while also attempting to rescue Princess Leia from the mysterious Darth Vader.\")\n",
            "(136, 'The Silence of the Lambs', '1991', 118, 8.6, '85', '48,837', '*****', \"When a ronin requesting seppuku at a feudal lord's palace is told of the brutal suicide of another ronin who previously visited, he reveals how their pasts are intertwined - and in doing so challenges the clan's integrity.\")\n",
            "(137, 'Star Wars: Episode IV - A New Hope', '1977', 121, 8.6, '98', '328,479', '$0.27M', 'A poor village under attack by bandits recruits seven unemployed samurai to help them defend themselves.')\n",
            "(138, 'Hara-Kiri', '1962', 133, 8.6, '89', '421,866', '*****', 'An angel is sent from Heaven to help a desperately frustrated businessman by showing him what life would have been like if he had never existed.')\n",
            "(139, 'Seven Samurai', '1954', 207, 8.6, '#####', '34,620', '*****', 'A sub-inspector sets out in pursuit of a mysterious serial killer who targets teen school girls and murders them brutally.')\n",
            "(140, \"It's a Wonderful Life\", '1946', 130, 8.6, '88', '761,768', '$13.09M', \"A promising young drummer enrolls at a cut-throat music conservatory where his dreams of greatness are mentored by an instructor who will stop at nothing to realize a student's potential.\")\n",
            "(141, 'Raatchasan', '2018', 170, 8.5, '57', '795,483', '$13.18M', 'After he becomes a quadriplegic from a paragliding accident, an aristocrat hires a young man from the projects to be his caregiver.')\n",
            "(142, 'Whiplash', '2014', 106, 8.5, '66', '1,243,046', '$53.09M', 'After a tragic accident, two stage magicians engage in a battle to create the ultimate illusion while sacrificing everything they have to outwit each other.')\n",
            "(143, 'The Intouchables', '2011', 112, 8.5, '85', '1,238,944', '$132.38M', 'A crime action film about an undercover cop and a mole in the police attempting to identify each other while infiltrating an Irish gang in South Boston.')\n",
            "(144, 'The Prestige', '2006', 130, 8.5, '85', '769,131', '$32.57M', 'A Polish Jewish musician struggles to survive the destruction of the Warsaw ghetto of World War II.')\n",
            "(145, 'The Departed', '2006', 151, 8.5, '67', '1,396,606', '$187.71M', 'A former Roman General sets out to exact vengeance against the corrupt emperor who murdered his family and sent him into slavery.')\n",
            "(146, 'The Pianist', '2002', 150, 8.5, '62', '1,066,216', '$6.72M', 'A former neo-nazi skinhead tries to prevent his younger brother from going down the same wrong path that he did.')\n",
            "(147, 'Gladiator', '2000', 155, 8.5, '77', '1,027,529', '$23.34M', 'A sole survivor tells of the twisty events leading up to a horrific gun battle on a boat, which began when five criminals met at a seemingly random police lineup.')\n",
            "(148, 'American History X', '1998', 119, 8.5, '64', '1,079,848', '$19.50M', \"Mathilda, a 12-year-old girl, is reluctantly taken in by Léon, a professional assassin, after her family is murdered. An unusual relationship forms as she becomes his protégée and learns the assassin's trade.\")\n",
            "(149, 'The Usual Suspects', '1995', 106, 8.5, '88', '982,201', '$422.78M', 'Lion prince Simba and his father are targeted by his bitter uncle, who wants to ascend the throne himself.')\n",
            "(150, 'Léon: The Professional', '1994', 110, 8.5, '75', '1,032,389', '$204.84M', 'A cyborg, identical to the one who failed to kill Sarah Connor, must now protect her ten year old son, John Connor, from a more advanced and powerful cyborg.')\n",
            "(151, 'The Lion King', '1994', 88, 8.5, '80', '244,920', '$11.99M', \"A filmmaker recalls his childhood when falling in love with the pictures at the cinema of his home village and forms a deep friendship with the cinema's projectionist.\")\n",
            "(152, 'Terminator 2: Judgment Day', '1991', 137, 8.5, '94', '252,088', '*****', 'A young boy and his little sister struggle to survive in Japan during World War II.')\n",
            "(153, 'Cinema Paradiso', '1988', 155, 8.5, '87', '1,111,097', '$210.61M', 'Marty McFly, a 17-year-old high school student, is accidentally sent thirty years into the past in a time-traveling DeLorean invented by his close friend, the eccentric scientist Doc Brown.')\n",
            "(154, 'Grave of the Fireflies', '1988', 89, 8.5, '80', '313,977', '$5.32M', 'A mysterious stranger with a harmonica joins forces with a notorious desperado to protect a beautiful widow from a ruthless assassin working for the railroad.')\n",
            "(155, 'Back to the Future', '1985', 116, 8.5, '97', '629,494', '$32.00M', \"A Phoenix secretary embezzles $40,000 from her employer's client, goes on the run, and checks into a remote motel run by a young man under the domination of his mother.\")\n",
            "(156, 'Once Upon a Time in the West', '1968', 165, 8.5, '#####', '28,310', '$0.54M', 'Impoverished priest Harihar Ray, dreaming of a better life for himself and his family, leaves his rural Bengal village in search of work.')\n",
            "(157, 'Psycho', '1960', 109, 8.5, '100', '464,555', '$36.76M', 'A wheelchair-bound photographer spies on his neighbors from his apartment window and becomes convinced one of them has committed murder.')\n",
            "(158, 'Pather Panchali', '1955', 125, 8.5, '100', '542,195', '$1.02M', 'A cynical expatriate American cafe owner struggles to decide whether or not to help his former lover and her fugitive husband escape the Nazis in French Morocco.')\n",
            "(159, 'Rear Window', '1954', 112, 8.5, '96', '228,337', '$0.16M', 'The Tramp struggles to live in modern industrial society with the help of a young homeless woman.')\n",
            "(160, 'Casablanca', '1942', 102, 8.5, '99', '175,684', '$0.02M', 'With the aid of a wealthy erratic tippler, a dewy-eyed tramp who has fallen in love with a sightless flower girl accumulates money to be able to help her medically.')\n",
            "(161, 'Modern Times', '1936', 87, 8.5, '90', '73,148', '*****', \"The real life of one of America's foremost founding fathers and first Secretary of the Treasury, Alexander Hamilton. Captured live on Broadway from the Richard Rodgers Theater with the original Broadway cast.\")\n",
            "(162, 'City Lights', '1931', 87, 8.5, '75', '74,864', '$1.66M', 'While serving a five-year sentence for a violent crime, a 12-year-old boy sues his parents for neglect.')\n",
            "(163, 'Hamilton', '2020', 160, 8.4, '59', '1,063,243', '$335.45M', 'In Gotham City, mentally troubled comedian Arthur Fleck is disregarded and mistreated by society. He then embarks on a downward spiral of revolution and bloody crime. This path brings him face-to-face with his alter-ego: the Joker.')\n",
            "(164, 'Capharnaüm', '2018', 126, 8.4, '#####', '36,963', '*****', 'In 1950, amid-st the ravages of the Korean War, Sergeant Süleyman stumbles upon a half-frozen little girl, with no parents and no help in sight. Frantic, scared and on the verge of death, ...                See full summary\\xa0»')\n",
            "(165, 'Joker', '2019', 122, 8.4, '79', '223,781', '$5.02M', 'Two strangers find themselves linked in a bizarre way. When a connection forms, will distance be the only thing to keep them apart?')\n",
            "(166, 'Ayla: The Daughter of War', '2017', 125, 8.4, '#####', '170,955', '$12.39M', 'Former wrestler Mahavir Singh Phogat and his two wrestler daughters struggle towards glory at the Commonwealth Games in the face of societal oppression.')\n",
            "(167, 'Your Name.', '2016', 106, 8.4, '87', '425,458', '$190.24M', 'Teen Miles Morales becomes the Spider-Man of his universe, and must join with five spider-powered individuals from other dimensions to stop a threat for all realities.')\n",
            "(168, 'Dangal', '2016', 161, 8.4, '78', '935,344', '$858.37M', \"After the devastating events of Avengers: Infinity War (2018), the universe is in ruins. With the help of remaining allies, the Avengers assemble once more in order to reverse Thanos' actions and restore balance to the universe.\")\n",
            "(169, 'Spider-Man: Into the Spider-Verse', '2018', 117, 8.4, '68', '921,335', '$678.82M', 'The Avengers and their allies must be willing to sacrifice all in an attempt to defeat the powerful Thanos before his blitz of devastation and ruin puts an end to the universe.')\n",
            "(170, 'Avengers: Endgame', '2019', 181, 8.4, '81', '430,352', '$209.73M', \"Aspiring musician Miguel, confronted with his family's ancestral ban on music, enters the Land of the Dead to find his great-great-grandfather, a legendary singer.\")\n",
            "(171, 'Avengers: Infinity War', '2018', 149, 8.4, '81', '1,424,157', '$162.81M', 'With the help of a German bounty-hunter, a freed slave sets out to rescue his wife from a brutal plantation-owner in Mississippi.')\n",
            "(172, 'Coco', 'I 2017', 105, 8.4, '78', '1,575,775', '$448.14M', \"Eight years after the Joker's reign of anarchy, Batman, with the help of the enigmatic Catwoman, is forced from his exile to save Gotham City from the brutal guerrilla terrorist Bane.\")\n",
            "(173, 'Django Unchained', '2012', 165, 8.4, '67', '367,126', '$6.53M', 'Two friends are searching for their long lost companion. They revisit their college days and recall the memories of their friend who inspired them to think differently, even as the rest of the world called them \"idiots\".')\n",
            "(174, 'The Dark Knight Rises', '2012', 164, 8.4, '#####', '180,396', '$1.22M', 'An eight-year-old boy is thought to be a lazy trouble-maker, until the new art teacher has the patience and compassion to discover the real problem behind his struggles in school.')\n",
            "(175, '3 Idiots', '2009', 170, 8.4, '95', '1,041,157', '$223.81M', 'In the distant future, a small waste-collecting robot inadvertently embarks on a space journey that will ultimately decide the fate of mankind.')\n",
            "(176, 'Like Stars on Earth', '2007', 165, 8.4, '89', '372,247', '$11.29M', 'In 1984 East Berlin, an agent of the secret police, conducting surveillance on a writer and his lover, finds himself becoming increasingly absorbed by their lives.')\n",
            "(177, 'WALL·E', '2008', 98, 8.4, '77', '539,836', '$0.71M', 'After being kidnapped and imprisoned for fifteen years, Oh Dae-Su is released, only to find that he must find his captor in five days.')\n",
            "(178, 'The Lives of Others', '2006', 137, 8.4, '80', '1,167,749', '$25.54M', \"A man with short-term memory loss attempts to track down his wife's murderer.\")\n",
            "(179, 'Oldboy', '2003', 120, 8.4, '76', '364,135', '$2.38M', \"On a journey to find the cure for a Tatarigami's curse, Ashitaka finds himself in the middle of a war between the forest gods and Tatara, a mining colony. In this quest he also meets San, the Mononoke Hime.\")\n",
            "(180, 'Memento', '2000', 113, 8.4, '75', '327,706', '$5.32M', 'A former Prohibition-era Jewish gangster returns to the Lower East Side of Manhattan over thirty years later, where he once again must confront the ghosts and regrets of his old life.')\n",
            "(181, 'Princess Mononoke', '1997', 134, 8.4, '85', '915,918', '$248.16M', \"In 1936, archaeologist and adventurer Indiana Jones is hired by the U.S. government to find the Ark of the Covenant before Adolf Hitler's Nazis can obtain its awesome powers.\")\n",
            "(182, 'Once Upon a Time in America', '1984', 229, 8.4, '66', '940,643', '$44.02M', 'A family heads to an isolated hotel for the winter where a sinister presence influences the father into violence, while his psychic son sees horrific forebodings from both past and future.')\n",
            "(183, 'Indiana Jones and the Raiders of the Lost Ark', '1981', 115, 8.4, '94', '628,993', '$83.47M', 'A U.S. Army officer serving in Vietnam is tasked with assassinating a renegade Special Forces Colonel who sees himself as a god.')\n",
            "(184, 'The Shining', '1980', 146, 8.4, '89', '821,940', '$78.90M', 'After a space merchant vessel receives an unknown transmission as a distress call, one of the crew is attacked by a mysterious life form and they soon realize that its life cycle has merely begun.')\n",
            "(185, 'Apocalypse Now', '1979', 147, 8.4, '#####', '39,436', '*****', \"An executive of a shoe company becomes a victim of extortion when his chauffeur's son is kidnapped and held for ransom.\")\n",
            "(186, 'Alien', '1979', 117, 8.4, '97', '467,115', '$0.28M', 'An insane general triggers a path to nuclear holocaust that a War Room full of politicians and generals frantically tries to stop.')\n",
            "(187, 'High and Low', '1963', 143, 8.4, '#####', '116,127', '$8.18M', 'A veteran British barrister must defend his client in a murder trial that has surprise after surprise.')\n",
            "(188, 'Dr. Strangelove or: How I Learned to Stop Worrying and Love the Bomb', '1964', 95, 8.4, '90', '186,853', '*****', 'After refusing to attack an enemy position, a general accuses the soldiers of cowardice and their commanding officer must defend them.')\n",
            "(189, 'Witness for the Prosecution', '1957', 116, 8.4, '#####', '210,790', '*****', 'A screenwriter develops a dangerous relationship with a faded film star determined to make a triumphant return.')\n",
            "(190, 'Paths of Glory', '1957', 88, 8.4, '#####', '212,931', '$0.29M', \"Dictator Adenoid Hynkel tries to expand his empire while a poor Jewish barber tries to avoid persecution from Hynkel's regime.\")\n",
            "(191, 'Sunset Blvd.', '1950', 110, 8.4, '#####', '43,794', '$0.90M', 'A tragic incident forces Anirudh, a middle-aged man, to take a trip down memory lane and reminisce his college days along with his friends, who were labelled as losers.')\n",
            "(192, 'The Great Dictator', '1940', 125, 8.4, '78', '489,082', '$159.23M', 'April 6th, 1917. As a regiment assembles to wage war deep in enemy territory, two soldiers are assigned to race against time and deliver a message that will stop 1,600 men from walking straight into a deadly trap.')\n",
            "(193, 'Chhichhore', '2019', 143, 8.3, '#####', '51,303', '$4.19M', 'Indian army special forces execute a covert operation, avenging the killing of fellow army men at their base by a terrorist group.')\n",
            "(194, '1917', '2019', 119, 8.3, '#####', '36,665', '*****', 'A mythological story about a goddess who created the entire universe. The plot revolves around the consequences when humans build a temple for her first-born.')\n",
            "(195, 'Uri: The Surgical Strike', '2019', 138, 8.3, '#####', '47,278', '*****', 'In the 1970s, a fierce rebel rises against brutal oppression and becomes the symbol of hope to legions of downtrodden people.')\n",
            "(196, 'Tumbbad', '2018', 104, 8.3, '#####', '33,400', '*****', \"Vikram, a no-nonsense police officer, accompanied by Simon, his partner, is on the hunt to capture Vedha, a smuggler and a murderer. Vedha tries to change Vikram's life, which leads to a conflict.\")\n",
            "(197, 'K.G.F: Chapter 1', '2018', 156, 8.3, '#####', '38,034', '*****', 'A man goes to extreme lengths to save his family from punishment after the family commits an accidental crime.')\n",
            "(198, 'Vikram Vedha', '2017', 147, 8.3, '77', '302,611', '$0.69M', \"A teacher lives a lonely life, all the while struggling over his son's custody. His life slowly gets better as he finds love and receives good news from his son, but his new luck is about to be brutally shattered by an innocent little lie.\")\n",
            "(199, 'Drishyam', '2013', 160, 8.3, '95', '231,684', '$7.10M', \"A married couple are faced with a difficult decision - to improve the life of their child by moving to another country or to stay in Iran and look after a deteriorating parent who has Alzheimer's disease.\")\n",
            "(200, 'The Hunt', '2012', 115, 8.3, '80', '161,442', '$6.86M', \"Twins journey to the Middle East to discover their family history and fulfill their mother's last wishes.\")\n",
            "(201, 'A Separation', '2011', 123, 8.3, '75', '34,985', '$47.70M', \"After his family was brutally murdered and his sister turned into a demon, Tanjiro Kamado's journey as a demon slayer began. Tanjiro and his comrades embark on a new mission aboard the Mugen Train, on track to despair.\")\n",
            "(202, 'Incendies', '2010', 131, 8.3, '88', '93,901', '*****', 'A man refuses all assistance from his daughter as he ages. As he tries to make sense of his changing circumstances, he begins to doubt his loved ones, his own mind and even the fabric of his reality.')\n",
            "(203, 'Demon Slayer: Mugen Train', '2020', 117, 8.3, '#####', '82,957', '*****', 'The family of a left-wing journalist is torn apart after the military coup of Turkey in 1980.')\n",
            "(204, 'The Father', 'I 2020', 97, 8.3, '80', '2,459,710', '$28.34M', 'Two imprisoned men bond over a number of years, finding solace and eventual redemption through acts of common decency.')\n",
            "(205, 'My Father and My Son', '2005', 112, 8.3, '100', '1,701,585', '$134.97M', \"An organized crime dynasty's aging patriarch transfers control of his clandestine empire to his reluctant son.\")\n",
            "(206, 'The Shawshank Redemption', '1994', 142, 9.3, '#####', '89,663', '*****', 'Nedumaaran Rajangam \"Maara\" sets out to make the common man fly and in the process takes on the world\\'s most capital intensive industry and several enemies who stand in his way.')\n",
            "(207, 'The Godfather', '1972', 175, 9.2, '84', '2,415,236', '$534.86M', 'When the menace known as the Joker wreaks havoc and chaos on the people of Gotham, Batman must accept one of the greatest psychological and physical tests of his ability to fight injustice.')\n",
            "(208, 'Soorarai Pottru', '2020', 153, 9.1, '90', '1,181,867', '$57.30M', 'The early life and career of Vito Corleone in 1920s New York City is portrayed, while his son, Michael, expands and tightens his grip on the family crime syndicate.')\n",
            "(209, 'The Dark Knight', '2008', 152, 9.0, '96', '728,178', '$4.36M', 'A jury holdout attempts to prevent a miscarriage of justice by forcing his colleagues to reconsider the evidence.')\n",
            "(210, 'The Godfather: Part II', '1974', 202, 9.0, '#####', '79,185', '*****', 'Follows the story of a young girl named Dara who is sent to a concentration camp in Croatia during World War 2.')\n",
            "(211, '12 Angry Men', '1957', 96, 9.0, '94', '1,707,354', '$377.85M', \"Gandalf and Aragorn lead the World of Men against Sauron's army to draw his gaze from Frodo and Sam as they approach Mount Doom with the One Ring.\")\n",
            "(212, 'Dara of Jasenovac', '2020', 130, 8.9, '94', '1,905,606', '$107.93M', 'The lives of two mob hitmen, a boxer, a gangster and his wife, and a pair of diner bandits intertwine in four tales of violence and redemption.')\n",
            "(213, 'The Lord of the Rings: The Return of the King', '2003', 201, 8.9, '94', '1,264,630', '$96.90M', 'In German-occupied Poland during World War II, industrialist Oskar Schindler gradually becomes concerned for his Jewish workforce after witnessing their persecution by the Nazis.')\n",
            "(214, 'Pulp Fiction', '1994', 154, 8.9, '74', '2,166,798', '$292.58M', 'A thief who steals corporate secrets through the use of dream-sharing technology is given the inverse task of planting an idea into the mind of a C.E.O.')\n",
            "(215, \"Schindler's List\", '1993', 195, 8.9, '#####', '99,519', '*****', 'This is a story of a PVC awardee brave Indian soldier - Capt. Vikram Batra, who shot to fame and became a household name during the Kargil War in 1999. His indomitable spirit and his unflinching courage in chasing the Pakistani soldiers out of Indian territory contributed immensely in India finally winning the Kargil War in 1999.')\n",
            "(216, 'Inception', '2010', 148, 8.8, '66', '1,937,371', '$37.03M', 'An insomniac office worker and a devil-may-care soap maker form an underground fight club that evolves into much more.')\n",
            "(217, 'Shershaah', '2021', 135, 8.8, '92', '1,728,637', '$315.54M', 'A meek Hobbit from the Shire and eight companions set out on a journey to destroy the powerful One Ring and save Middle-earth from the Dark Lord Sauron.')\n",
            "(218, 'Fight Club', '1999', 139, 8.8, '82', '1,901,775', '$330.25M', 'The presidencies of Kennedy and Johnson, the Vietnam War, the Watergate scandal and other historical events unfold from the perspective of an Alabama man with an IQ of 75, whose only desire is to be reunited with his childhood sweetheart.')\n",
            "(219, 'The Lord of the Rings: The Fellowship of the Ring', '2001', 178, 8.8, '90', '716,763', '$6.10M', 'A bounty hunting scam joins two men in an uneasy alliance against a third in a race to find a fortune in gold buried in a remote cemetery.')\n",
            "(220, 'Forrest Gump', '1994', 142, 8.8, '87', '1,543,603', '$342.55M', \"While Frodo and Sam edge closer to Mordor with the help of the shifty Gollum, the divided fellowship makes a stand against Sauron's new ally, Saruman, and his hordes of Isengard.\")\n",
            "(221, 'The Good, the Bad and the Ugly', '1966', 178, 8.8, '73', '1,752,637', '$171.48M', 'When a beautiful stranger leads computer hacker Neo to a forbidding underworld, he discovers the shocking truth--the life he knows is the elaborate deception of an evil cyber-intelligence.')\n",
            "(222, 'The Lord of the Rings: The Two Towers', '2002', 179, 8.7, '90', '1,068,160', '$46.84M', 'The story of Henry Hill and his life in the mob, covering his relationship with his wife Karen Hill and his mob partners Jimmy Conway and Tommy DeVito in the Italian-American crime syndicate.')\n",
            "(223, 'The Matrix', '1999', 136, 8.7, '82', '1,203,524', '$290.48M', 'After the Rebels are brutally overpowered by the Empire on the ice planet Hoth, Luke Skywalker begins Jedi training with Yoda, while his friends are pursued across the galaxy by Darth Vader and bounty hunter Boba Fett.')\n",
            "(224, 'Goodfellas', '1990', 146, 8.7, '84', '952,827', '$112.00M', 'A criminal pleads insanity and is admitted to a mental institution, where he rebels against the oppressive nurse and rallies up the scared patients.')\n",
            "(225, 'Star Wars: Episode V - The Empire Strikes Back', '1980', 124, 8.7, '96', '656,889', '$53.37M', 'Greed and class discrimination threaten the newly formed symbiotic relationship between the wealthy Park family and the destitute Kim clan.')\n",
            "(226, \"One Flew Over the Cuckoo's Nest\", '1975', 133, 8.7, '#####', '30,600', '*****', 'A gripping tale of an investigation and a family which is threatened by it. Will Georgekutty be able to protect his family this time?')\n",
            "(227, 'Parasite', '2019', 132, 8.6, '74', '1,611,310', '$188.02M', \"A team of explorers travel through a wormhole in space in an attempt to ensure humanity's survival.\")\n",
            "(228, 'Drishyam 2', '2021', 152, 8.6, '79', '721,114', '$7.56M', \"In the slums of Rio, two kids' paths diverge as one struggles to become a photographer and the other a kingpin.\")\n",
            "(229, 'Interstellar', '2014', 169, 8.6, '96', '692,157', '$10.06M', \"During her family's move to the suburbs, a sullen 10-year-old girl wanders into a world ruled by gods, witches, and spirits, and where humans are changed into beasts.\")\n",
            "(230, 'City of God', '2002', 130, 8.6, '91', '1,290,084', '$216.54M', 'Following the Normandy Landings, a group of U.S. soldiers go behind enemy lines to retrieve a paratrooper whose brothers have been killed in action.')\n",
            "(231, 'Spirited Away', '2001', 125, 8.6, '61', '1,201,609', '$136.80M', 'The lives of guards on Death Row are affected by one of their charges: a black man accused of child murder and rape, yet who has a mysterious gift.')\n",
            "(232, 'Saving Private Ryan', '1998', 169, 8.6, '59', '651,072', '$57.60M', 'When an open-minded Jewish librarian and his son become victims of the Holocaust, he uses a perfect mixture of will, humor, and imagination to protect his son from the dangers around their camp.')\n",
            "(233, 'The Green Mile', '1999', 189, 8.6, '65', '1,514,011', '$100.13M', 'Two detectives, a rookie and a veteran, hunt a serial killer who uses the seven deadly sins as his motives.')\n",
            "(234, 'Life Is Beautiful', '1997', 116, 8.6, '85', '1,329,659', '$130.74M', 'A young F.B.I. cadet must receive the help of an incarcerated and manipulative cannibal killer to help catch another serial killer, a madman who skins his victims.')\n",
            "(235, 'Se7en', '1995', 127, 8.6, '90', '1,275,371', '$322.74M', \"Luke Skywalker joins forces with a Jedi Knight, a cocky pilot, a Wookiee and two droids to save the galaxy from the Empire's world-destroying battle station, while also attempting to rescue Princess Leia from the mysterious Darth Vader.\")\n",
            "(236, 'The Silence of the Lambs', '1991', 118, 8.6, '85', '48,837', '*****', \"When a ronin requesting seppuku at a feudal lord's palace is told of the brutal suicide of another ronin who previously visited, he reveals how their pasts are intertwined - and in doing so challenges the clan's integrity.\")\n",
            "(237, 'Star Wars: Episode IV - A New Hope', '1977', 121, 8.6, '98', '328,479', '$0.27M', 'A poor village under attack by bandits recruits seven unemployed samurai to help them defend themselves.')\n",
            "(238, 'Hara-Kiri', '1962', 133, 8.6, '89', '421,866', '*****', 'An angel is sent from Heaven to help a desperately frustrated businessman by showing him what life would have been like if he had never existed.')\n",
            "(239, 'Seven Samurai', '1954', 207, 8.6, '#####', '34,620', '*****', 'A sub-inspector sets out in pursuit of a mysterious serial killer who targets teen school girls and murders them brutally.')\n",
            "(240, \"It's a Wonderful Life\", '1946', 130, 8.6, '88', '761,768', '$13.09M', \"A promising young drummer enrolls at a cut-throat music conservatory where his dreams of greatness are mentored by an instructor who will stop at nothing to realize a student's potential.\")\n",
            "(241, 'Raatchasan', '2018', 170, 8.5, '57', '795,483', '$13.18M', 'After he becomes a quadriplegic from a paragliding accident, an aristocrat hires a young man from the projects to be his caregiver.')\n",
            "(242, 'Whiplash', '2014', 106, 8.5, '66', '1,243,046', '$53.09M', 'After a tragic accident, two stage magicians engage in a battle to create the ultimate illusion while sacrificing everything they have to outwit each other.')\n",
            "(243, 'The Intouchables', '2011', 112, 8.5, '85', '1,238,944', '$132.38M', 'A crime action film about an undercover cop and a mole in the police attempting to identify each other while infiltrating an Irish gang in South Boston.')\n",
            "(244, 'The Prestige', '2006', 130, 8.5, '85', '769,131', '$32.57M', 'A Polish Jewish musician struggles to survive the destruction of the Warsaw ghetto of World War II.')\n",
            "(245, 'The Departed', '2006', 151, 8.5, '67', '1,396,606', '$187.71M', 'A former Roman General sets out to exact vengeance against the corrupt emperor who murdered his family and sent him into slavery.')\n",
            "(246, 'The Pianist', '2002', 150, 8.5, '62', '1,066,216', '$6.72M', 'A former neo-nazi skinhead tries to prevent his younger brother from going down the same wrong path that he did.')\n",
            "(247, 'Gladiator', '2000', 155, 8.5, '77', '1,027,529', '$23.34M', 'A sole survivor tells of the twisty events leading up to a horrific gun battle on a boat, which began when five criminals met at a seemingly random police lineup.')\n",
            "(248, 'American History X', '1998', 119, 8.5, '64', '1,079,848', '$19.50M', \"Mathilda, a 12-year-old girl, is reluctantly taken in by Léon, a professional assassin, after her family is murdered. An unusual relationship forms as she becomes his protégée and learns the assassin's trade.\")\n",
            "(249, 'The Usual Suspects', '1995', 106, 8.5, '88', '982,201', '$422.78M', 'Lion prince Simba and his father are targeted by his bitter uncle, who wants to ascend the throne himself.')\n",
            "(250, 'Léon: The Professional', '1994', 110, 8.5, '75', '1,032,389', '$204.84M', 'A cyborg, identical to the one who failed to kill Sarah Connor, must now protect her ten year old son, John Connor, from a more advanced and powerful cyborg.')\n",
            "(251, 'The Lion King', '1994', 88, 8.5, '80', '244,920', '$11.99M', \"A filmmaker recalls his childhood when falling in love with the pictures at the cinema of his home village and forms a deep friendship with the cinema's projectionist.\")\n",
            "(252, 'Terminator 2: Judgment Day', '1991', 137, 8.5, '94', '252,088', '*****', 'A young boy and his little sister struggle to survive in Japan during World War II.')\n",
            "(253, 'Cinema Paradiso', '1988', 155, 8.5, '87', '1,111,097', '$210.61M', 'Marty McFly, a 17-year-old high school student, is accidentally sent thirty years into the past in a time-traveling DeLorean invented by his close friend, the eccentric scientist Doc Brown.')\n",
            "(254, 'Grave of the Fireflies', '1988', 89, 8.5, '80', '313,977', '$5.32M', 'A mysterious stranger with a harmonica joins forces with a notorious desperado to protect a beautiful widow from a ruthless assassin working for the railroad.')\n",
            "(255, 'Back to the Future', '1985', 116, 8.5, '97', '629,494', '$32.00M', \"A Phoenix secretary embezzles $40,000 from her employer's client, goes on the run, and checks into a remote motel run by a young man under the domination of his mother.\")\n",
            "(256, 'Once Upon a Time in the West', '1968', 165, 8.5, '#####', '28,310', '$0.54M', 'Impoverished priest Harihar Ray, dreaming of a better life for himself and his family, leaves his rural Bengal village in search of work.')\n",
            "(257, 'Psycho', '1960', 109, 8.5, '100', '464,555', '$36.76M', 'A wheelchair-bound photographer spies on his neighbors from his apartment window and becomes convinced one of them has committed murder.')\n",
            "(258, 'Pather Panchali', '1955', 125, 8.5, '100', '542,195', '$1.02M', 'A cynical expatriate American cafe owner struggles to decide whether or not to help his former lover and her fugitive husband escape the Nazis in French Morocco.')\n",
            "(259, 'Rear Window', '1954', 112, 8.5, '96', '228,337', '$0.16M', 'The Tramp struggles to live in modern industrial society with the help of a young homeless woman.')\n",
            "(260, 'Casablanca', '1942', 102, 8.5, '99', '175,684', '$0.02M', 'With the aid of a wealthy erratic tippler, a dewy-eyed tramp who has fallen in love with a sightless flower girl accumulates money to be able to help her medically.')\n",
            "(261, 'Modern Times', '1936', 87, 8.5, '90', '73,148', '*****', \"The real life of one of America's foremost founding fathers and first Secretary of the Treasury, Alexander Hamilton. Captured live on Broadway from the Richard Rodgers Theater with the original Broadway cast.\")\n",
            "(262, 'City Lights', '1931', 87, 8.5, '75', '74,864', '$1.66M', 'While serving a five-year sentence for a violent crime, a 12-year-old boy sues his parents for neglect.')\n",
            "(263, 'Hamilton', '2020', 160, 8.4, '59', '1,063,243', '$335.45M', 'In Gotham City, mentally troubled comedian Arthur Fleck is disregarded and mistreated by society. He then embarks on a downward spiral of revolution and bloody crime. This path brings him face-to-face with his alter-ego: the Joker.')\n",
            "(264, 'Capharnaüm', '2018', 126, 8.4, '#####', '36,963', '*****', 'In 1950, amid-st the ravages of the Korean War, Sergeant Süleyman stumbles upon a half-frozen little girl, with no parents and no help in sight. Frantic, scared and on the verge of death, ...                See full summary\\xa0»')\n",
            "(265, 'Joker', '2019', 122, 8.4, '79', '223,781', '$5.02M', 'Two strangers find themselves linked in a bizarre way. When a connection forms, will distance be the only thing to keep them apart?')\n",
            "(266, 'Ayla: The Daughter of War', '2017', 125, 8.4, '#####', '170,955', '$12.39M', 'Former wrestler Mahavir Singh Phogat and his two wrestler daughters struggle towards glory at the Commonwealth Games in the face of societal oppression.')\n",
            "(267, 'Your Name.', '2016', 106, 8.4, '87', '425,458', '$190.24M', 'Teen Miles Morales becomes the Spider-Man of his universe, and must join with five spider-powered individuals from other dimensions to stop a threat for all realities.')\n",
            "(268, 'Dangal', '2016', 161, 8.4, '78', '935,344', '$858.37M', \"After the devastating events of Avengers: Infinity War (2018), the universe is in ruins. With the help of remaining allies, the Avengers assemble once more in order to reverse Thanos' actions and restore balance to the universe.\")\n",
            "(269, 'Spider-Man: Into the Spider-Verse', '2018', 117, 8.4, '68', '921,335', '$678.82M', 'The Avengers and their allies must be willing to sacrifice all in an attempt to defeat the powerful Thanos before his blitz of devastation and ruin puts an end to the universe.')\n",
            "(270, 'Avengers: Endgame', '2019', 181, 8.4, '81', '430,352', '$209.73M', \"Aspiring musician Miguel, confronted with his family's ancestral ban on music, enters the Land of the Dead to find his great-great-grandfather, a legendary singer.\")\n",
            "(271, 'Avengers: Infinity War', '2018', 149, 8.4, '81', '1,424,157', '$162.81M', 'With the help of a German bounty-hunter, a freed slave sets out to rescue his wife from a brutal plantation-owner in Mississippi.')\n",
            "(272, 'Coco', 'I 2017', 105, 8.4, '78', '1,575,775', '$448.14M', \"Eight years after the Joker's reign of anarchy, Batman, with the help of the enigmatic Catwoman, is forced from his exile to save Gotham City from the brutal guerrilla terrorist Bane.\")\n",
            "(273, 'Django Unchained', '2012', 165, 8.4, '67', '367,126', '$6.53M', 'Two friends are searching for their long lost companion. They revisit their college days and recall the memories of their friend who inspired them to think differently, even as the rest of the world called them \"idiots\".')\n",
            "(274, 'The Dark Knight Rises', '2012', 164, 8.4, '#####', '180,396', '$1.22M', 'An eight-year-old boy is thought to be a lazy trouble-maker, until the new art teacher has the patience and compassion to discover the real problem behind his struggles in school.')\n",
            "(275, '3 Idiots', '2009', 170, 8.4, '95', '1,041,157', '$223.81M', 'In the distant future, a small waste-collecting robot inadvertently embarks on a space journey that will ultimately decide the fate of mankind.')\n",
            "(276, 'Like Stars on Earth', '2007', 165, 8.4, '89', '372,247', '$11.29M', 'In 1984 East Berlin, an agent of the secret police, conducting surveillance on a writer and his lover, finds himself becoming increasingly absorbed by their lives.')\n",
            "(277, 'WALL·E', '2008', 98, 8.4, '77', '539,836', '$0.71M', 'After being kidnapped and imprisoned for fifteen years, Oh Dae-Su is released, only to find that he must find his captor in five days.')\n",
            "(278, 'The Lives of Others', '2006', 137, 8.4, '80', '1,167,749', '$25.54M', \"A man with short-term memory loss attempts to track down his wife's murderer.\")\n",
            "(279, 'Oldboy', '2003', 120, 8.4, '76', '364,135', '$2.38M', \"On a journey to find the cure for a Tatarigami's curse, Ashitaka finds himself in the middle of a war between the forest gods and Tatara, a mining colony. In this quest he also meets San, the Mononoke Hime.\")\n",
            "(280, 'Memento', '2000', 113, 8.4, '75', '327,706', '$5.32M', 'A former Prohibition-era Jewish gangster returns to the Lower East Side of Manhattan over thirty years later, where he once again must confront the ghosts and regrets of his old life.')\n",
            "(281, 'Princess Mononoke', '1997', 134, 8.4, '85', '915,918', '$248.16M', \"In 1936, archaeologist and adventurer Indiana Jones is hired by the U.S. government to find the Ark of the Covenant before Adolf Hitler's Nazis can obtain its awesome powers.\")\n",
            "(282, 'Once Upon a Time in America', '1984', 229, 8.4, '66', '940,643', '$44.02M', 'A family heads to an isolated hotel for the winter where a sinister presence influences the father into violence, while his psychic son sees horrific forebodings from both past and future.')\n",
            "(283, 'Indiana Jones and the Raiders of the Lost Ark', '1981', 115, 8.4, '94', '628,993', '$83.47M', 'A U.S. Army officer serving in Vietnam is tasked with assassinating a renegade Special Forces Colonel who sees himself as a god.')\n",
            "(284, 'The Shining', '1980', 146, 8.4, '89', '821,940', '$78.90M', 'After a space merchant vessel receives an unknown transmission as a distress call, one of the crew is attacked by a mysterious life form and they soon realize that its life cycle has merely begun.')\n",
            "(285, 'Apocalypse Now', '1979', 147, 8.4, '#####', '39,436', '*****', \"An executive of a shoe company becomes a victim of extortion when his chauffeur's son is kidnapped and held for ransom.\")\n",
            "(286, 'Alien', '1979', 117, 8.4, '97', '467,115', '$0.28M', 'An insane general triggers a path to nuclear holocaust that a War Room full of politicians and generals frantically tries to stop.')\n",
            "(287, 'High and Low', '1963', 143, 8.4, '#####', '116,127', '$8.18M', 'A veteran British barrister must defend his client in a murder trial that has surprise after surprise.')\n",
            "(288, 'Dr. Strangelove or: How I Learned to Stop Worrying and Love the Bomb', '1964', 95, 8.4, '90', '186,853', '*****', 'After refusing to attack an enemy position, a general accuses the soldiers of cowardice and their commanding officer must defend them.')\n",
            "(289, 'Witness for the Prosecution', '1957', 116, 8.4, '#####', '210,790', '*****', 'A screenwriter develops a dangerous relationship with a faded film star determined to make a triumphant return.')\n",
            "(290, 'Paths of Glory', '1957', 88, 8.4, '#####', '212,931', '$0.29M', \"Dictator Adenoid Hynkel tries to expand his empire while a poor Jewish barber tries to avoid persecution from Hynkel's regime.\")\n",
            "(291, 'Sunset Blvd.', '1950', 110, 8.4, '#####', '43,794', '$0.90M', 'A tragic incident forces Anirudh, a middle-aged man, to take a trip down memory lane and reminisce his college days along with his friends, who were labelled as losers.')\n",
            "(292, 'The Great Dictator', '1940', 125, 8.4, '78', '489,082', '$159.23M', 'April 6th, 1917. As a regiment assembles to wage war deep in enemy territory, two soldiers are assigned to race against time and deliver a message that will stop 1,600 men from walking straight into a deadly trap.')\n",
            "(293, 'Chhichhore', '2019', 143, 8.3, '#####', '51,303', '$4.19M', 'Indian army special forces execute a covert operation, avenging the killing of fellow army men at their base by a terrorist group.')\n",
            "(294, '1917', '2019', 119, 8.3, '#####', '36,665', '*****', 'A mythological story about a goddess who created the entire universe. The plot revolves around the consequences when humans build a temple for her first-born.')\n",
            "(295, 'Uri: The Surgical Strike', '2019', 138, 8.3, '#####', '47,278', '*****', 'In the 1970s, a fierce rebel rises against brutal oppression and becomes the symbol of hope to legions of downtrodden people.')\n",
            "(296, 'Tumbbad', '2018', 104, 8.3, '#####', '33,400', '*****', \"Vikram, a no-nonsense police officer, accompanied by Simon, his partner, is on the hunt to capture Vedha, a smuggler and a murderer. Vedha tries to change Vikram's life, which leads to a conflict.\")\n",
            "(297, 'K.G.F: Chapter 1', '2018', 156, 8.3, '#####', '38,034', '*****', 'A man goes to extreme lengths to save his family from punishment after the family commits an accidental crime.')\n",
            "(298, 'Vikram Vedha', '2017', 147, 8.3, '77', '302,611', '$0.69M', \"A teacher lives a lonely life, all the while struggling over his son's custody. His life slowly gets better as he finds love and receives good news from his son, but his new luck is about to be brutally shattered by an innocent little lie.\")\n",
            "(299, 'Drishyam', '2013', 160, 8.3, '95', '231,684', '$7.10M', \"A married couple are faced with a difficult decision - to improve the life of their child by moving to another country or to stay in Iran and look after a deteriorating parent who has Alzheimer's disease.\")\n",
            "(300, 'The Hunt', '2012', 115, 8.3, '80', '161,442', '$6.86M', \"Twins journey to the Middle East to discover their family history and fulfill their mother's last wishes.\")\n",
            "(301, 'A Separation', '2011', 123, 8.3, '75', '34,985', '$47.70M', \"After his family was brutally murdered and his sister turned into a demon, Tanjiro Kamado's journey as a demon slayer began. Tanjiro and his comrades embark on a new mission aboard the Mugen Train, on track to despair.\")\n",
            "(302, 'Incendies', '2010', 131, 8.3, '88', '93,901', '*****', 'A man refuses all assistance from his daughter as he ages. As he tries to make sense of his changing circumstances, he begins to doubt his loved ones, his own mind and even the fabric of his reality.')\n",
            "(303, 'Demon Slayer: Mugen Train', '2020', 117, 8.3, '#####', '82,957', '*****', 'The family of a left-wing journalist is torn apart after the military coup of Turkey in 1980.')\n",
            "(304, 'The Father', 'I 2020', 97, 8.3, None, None, None, None)\n",
            "(305, 'My Father and My Son', '2005', 112, 8.3, None, None, None, None)\n"
          ]
        }
      ]
    },
    {
      "cell_type": "code",
      "metadata": {
        "colab": {
          "base_uri": "https://localhost:8080/"
        },
        "id": "Mh2gfkbL97WW",
        "outputId": "71f2208d-99a0-4105-fecc-b68da40a708c"
      },
      "source": [
        "c.execute('''SELECT * FROM movies limit 5''')"
      ],
      "execution_count": 82,
      "outputs": [
        {
          "output_type": "execute_result",
          "data": {
            "text/plain": [
              "<sqlite3.Cursor at 0x7fcf8394cd50>"
            ]
          },
          "metadata": {},
          "execution_count": 82
        }
      ]
    },
    {
      "cell_type": "code",
      "metadata": {
        "colab": {
          "base_uri": "https://localhost:8080/"
        },
        "id": "yjEzlk7M-HZo",
        "outputId": "7e59f0c3-a58f-4c52-8a41-8c4e44549e7a"
      },
      "source": [
        "for row in c.fetchall():\n",
        "  print(row)"
      ],
      "execution_count": 83,
      "outputs": [
        {
          "output_type": "stream",
          "name": "stdout",
          "text": [
            "(0, 'The Shawshank Redemption', '1994', 142, 9.3, '80', '2,459,710', '$28.34M', 'Two imprisoned men bond over a number of years, finding solace and eventual redemption through acts of common decency.')\n",
            "(1, 'The Godfather', '1972', 175, 9.2, '100', '1,701,585', '$134.97M', \"An organized crime dynasty's aging patriarch transfers control of his clandestine empire to his reluctant son.\")\n",
            "(2, 'Soorarai Pottru', '2020', 153, 9.1, '#####', '89,663', '*****', 'Nedumaaran Rajangam \"Maara\" sets out to make the common man fly and in the process takes on the world\\'s most capital intensive industry and several enemies who stand in his way.')\n",
            "(3, 'The Dark Knight', '2008', 152, 9.0, '84', '2,415,236', '$534.86M', 'When the menace known as the Joker wreaks havoc and chaos on the people of Gotham, Batman must accept one of the greatest psychological and physical tests of his ability to fight injustice.')\n",
            "(4, 'The Godfather: Part II', '1974', 202, 9.0, '90', '1,181,867', '$57.30M', 'The early life and career of Vito Corleone in 1920s New York City is portrayed, while his son, Michael, expands and tightens his grip on the family crime syndicate.')\n"
          ]
        }
      ]
    },
    {
      "cell_type": "code",
      "metadata": {
        "id": "q1X5iPeH-O2g"
      },
      "source": [
        ""
      ],
      "execution_count": null,
      "outputs": []
    }
  ]
}