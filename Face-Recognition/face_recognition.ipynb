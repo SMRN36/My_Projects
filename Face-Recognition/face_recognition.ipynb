{
 "cells": [
  {
   "cell_type": "code",
   "execution_count": 2,
   "metadata": {},
   "outputs": [],
   "source": [
    "# -*- coding: utf-8 -*-\n",
    "\n",
    "\n",
    "import cv2\n",
    "import os\n",
    "import numpy as np\n",
    "\n",
    "# this module consists of the functions that we will use to recognize the face\n",
    "\n",
    "# Given an image, this function returns rectangle for face detected with grayscale image\n",
    "def faceDetection(test_img):\n",
    "    gray_img = cv2.cvtColor(test_img, cv2.COLOR_BGR2GRAY)\n",
    "    face_haar_cascade = cv2.CascadeClassifier('F:/Face detection/HaarCascade/haarcascade_frontalface_default.xml') #Lading the Haar cascade file\n",
    "    \n",
    "    faces = face_haar_cascade.detectMultiScale(gray_img, scaleFactor=1.35, minNeighbors=5)\n",
    "    #detectMultiscale reurns rectange\n",
    "    return faces, gray_img\n",
    "\n",
    "# give labels to training images. This function takes a directory path as input\n",
    "def labels_for_training_images(directory):\n",
    "    faces=[]\n",
    "    faceID=[]\n",
    "    \n",
    "    for path,subdirnames,filenames in os.walk(directory):\n",
    "        for filename in filenames:\n",
    "            if filename.startswith('.'):\n",
    "                print('Skipping the system file')\n",
    "                continue\n",
    "            id = os.path.basename(path)\n",
    "            img_path = os.path.join(path, filename) #fetching image path\n",
    "            print(\"image path: \", img_path)\n",
    "            test_img = cv2.imread(img_path) # loads the image one by one\n",
    "            if test_img is None:\n",
    "                print('Image not loades properly')\n",
    "                continue\n",
    "            faces_rect,gray_img = faceDetection(test_img) \n",
    "            # calling the faceDetection function to return face location in each images\n",
    "            if len(faces_rect)!=1:\n",
    "                continue # Since we are assuming only one person is there in the image\n",
    "                        \n",
    "            (x,y,w,h) = faces_rect[0]\n",
    "            roi_gray =gray_img[y:y+w,x:x+h] # cropping region of interest i.e. face location\n",
    "            faces.append(roi_gray)\n",
    "            faceID.append(int(id))\n",
    "    return faces, faceID\n",
    "\n",
    "\n",
    "# Below function trains the classifier using the training images\n",
    "def train_classifier(faces, faceID):\n",
    "    face_recognizer = cv2.face.LBPHFaceRecognizer_create()\n",
    "    face_recognizer.train(faces,np.array(faceID))\n",
    "    return face_recognizer\n",
    "\n",
    "# Below function draws a bounding box around the face\n",
    "def draw_rect(test_img,face):\n",
    "    (x,y,w,h) = face\n",
    "    cv2.rectangle(test_img, (x,y), (x+w, y+h), (255,0,0), thickness=5)\n",
    "    \n",
    "# Below function writes the name of the person in the image\n",
    "def put_text(test_img, text, x,y):\n",
    "    cv2.putText(test_img,text,(x,y), cv2.FONT_HERSHEY_DUPLEX,2,(255,0,0),4)"
   ]
  },
  {
   "cell_type": "code",
   "execution_count": null,
   "metadata": {},
   "outputs": [],
   "source": []
  },
  {
   "cell_type": "code",
   "execution_count": null,
   "metadata": {},
   "outputs": [],
   "source": []
  }
 ],
 "metadata": {
  "kernelspec": {
   "display_name": "Python 3",
   "language": "python",
   "name": "python3"
  },
  "language_info": {
   "codemirror_mode": {
    "name": "ipython",
    "version": 3
   },
   "file_extension": ".py",
   "mimetype": "text/x-python",
   "name": "python",
   "nbconvert_exporter": "python",
   "pygments_lexer": "ipython3",
   "version": "3.7.5"
  }
 },
 "nbformat": 4,
 "nbformat_minor": 4
}
