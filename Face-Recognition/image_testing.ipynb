{
 "cells": [
  {
   "cell_type": "code",
   "execution_count": 17,
   "metadata": {},
   "outputs": [
    {
     "name": "stdout",
     "output_type": "stream",
     "text": [
      "face detected: [[558  79 382 382]]\n",
      "Confidence: 0.0\n",
      "label 0\n"
     ]
    }
   ],
   "source": [
    "# -*- coding: utf-8 -*-\n",
    "\"\"\"\n",
    "Created on Fri Jun 19 11:03:09 2020\n",
    "\n",
    "@author: Siddhardhan S\n",
    "\"\"\"\n",
    "\n",
    "import cv2\n",
    "import os\n",
    "import numpy as np\n",
    "import face_recognition as fr\n",
    "\n",
    "test_img=cv2.imread('F:/Face detection/Test Images/test.jpg')\n",
    "faces_detected,gray_img = fr.faceDetection(test_img)\n",
    "\n",
    "print('face detected:', faces_detected)\n",
    "\n",
    "\n",
    "# comment these lines when you are running the code from the second time\n",
    "#faces, faceID = fr.labels_for_training_images('F:/Face detection/TrainingImages')\n",
    "#face_recognizer = fr.train_classifier(faces, faceID)\n",
    "#face_recognizer.write('F:/Face detection/trainingData.yml')\n",
    "\n",
    "\n",
    "# uncomment these lines while running the code from second time onwards\n",
    "face_recognizer=cv2.face.LBPHFaceRecognizer_create()\n",
    "face_recognizer.read('F:/Face detection/trainingData.yml')\n",
    "\n",
    "name = {0:'SIMRAN', 1:'SAHIL'} # creating dictionary containing names for label\n",
    "\n",
    "for face in faces_detected:\n",
    "    (x,y,w,h)=face\n",
    "    roi_gray=gray_img[y:y+h,x:x+h]\n",
    "    label, confidence = face_recognizer.predict(roi_gray) #predicts the label of the image\n",
    "    \n",
    "    fr.draw_rect(test_img, face)\n",
    "    predicted_name = name[label]\n",
    "        \n",
    "    if (confidence>35): #if confidence is greater than 35, don't print the name\n",
    "        continue\n",
    "    \n",
    "    fr.put_text(test_img, predicted_name, x, y)\n",
    "    print('Confidence:', confidence)\n",
    "    print('label', label)\n",
    "    resized_img = cv2.resize(test_img,(500,700))\n",
    "    cv2.imshow('face detection',resized_img)\n",
    "    cv2.waitKey(0)\n",
    "    cv2.destroyAllWindows\n"
   ]
  },
  {
   "cell_type": "code",
   "execution_count": null,
   "metadata": {},
   "outputs": [],
   "source": []
  },
  {
   "cell_type": "code",
   "execution_count": null,
   "metadata": {},
   "outputs": [],
   "source": []
  }
 ],
 "metadata": {
  "kernelspec": {
   "display_name": "Python 3",
   "language": "python",
   "name": "python3"
  },
  "language_info": {
   "codemirror_mode": {
    "name": "ipython",
    "version": 3
   },
   "file_extension": ".py",
   "mimetype": "text/x-python",
   "name": "python",
   "nbconvert_exporter": "python",
   "pygments_lexer": "ipython3",
   "version": "3.7.5"
  }
 },
 "nbformat": 4,
 "nbformat_minor": 4
}
